{
  "cells": [
    {
      "cell_type": "markdown",
      "metadata": {
        "id": "hExKCzh6doIW"
      },
      "source": [
        "# Lab 3 - Comparing Classification Models\n",
        "\n",
        "\n",
        "\n",
        "---\n",
        "\n",
        "\n",
        "\n",
        "\n",
        "\n",
        "\n",
        "\n",
        "\n",
        "\n",
        "\n",
        "\n",
        "\n",
        "\n"
      ]
    },
    {
      "cell_type": "markdown",
      "source": [
        "# Comment\n",
        "Using functional api instead of sequential api as using the sequential api would not let me print the input layer to visualise the model after adding the layers (in model.summary())"
      ],
      "metadata": {
        "id": "XAX60PHRaBgb"
      }
    },
    {
      "cell_type": "markdown",
      "metadata": {
        "id": "HixoFOoCIJ7V"
      },
      "source": [
        "In this session, we demonstrate how to solve a text classification task using simple \n",
        "feedforward neural network classifier. We will use IMDB Large Movie Review Dataset to train a binary classification model, able to predict whether a review is positive or negative. First, our network takes one-hot word vectors as input, averages them to make one vector and trains a \n",
        "fully-connected layer to predict the output. In the second part, we replace the one-hot vectors with the word embeddings and add a layer to see how much that improves the performance.\n",
        "\n",
        "We are going to use Keras Sequential API in this session. The Sequential API allows you to make models layer-by-layer. But it is not straightforward to define models where layers connect to more than just the previous and next layers. "
      ]
    },
    {
      "cell_type": "code",
      "execution_count": null,
      "metadata": {
        "id": "m8fpBfhBpupy"
      },
      "outputs": [],
      "source": [
        "import tensorflow.keras as tk\n",
        "import numpy as np\n",
        "from keras.layers import Lambda, GlobalAveragePooling1D, Dense, Embedding, Input\n",
        "from keras import backend as K\n",
        "from keras.models import Sequential\n",
        "import matplotlib.pyplot as plt\n"
      ]
    },
    {
      "cell_type": "markdown",
      "metadata": {
        "id": "cqvPQvgvPv1W"
      },
      "source": [
        "### Downloading data"
      ]
    },
    {
      "cell_type": "markdown",
      "metadata": {
        "id": "EundMtGPpCdf"
      },
      "source": [
        "The dataset we will be using is the IMDB Large Movie Review Dataset, which consists of 50000 labeled movie reviews. These are split into 25,000 reviews for training and 25,000 reviews for testing. The  dataset contains an even number of positive and negative reviews, so randomly guessing yields 50% accuracy. The data is preprocessed. For text classification, it is ususal to limit the size of the vocabulary to stop the dataset from becoming too sparse, creating possible overfitting. We keep the top 10,000 most frequently occurring words in the training data.\n"
      ]
    },
    {
      "cell_type": "code",
      "execution_count": null,
      "metadata": {
        "id": "NyuSzkafqNca"
      },
      "outputs": [],
      "source": [
        "imdb = tk.datasets.imdb\n",
        "(X_train, y_train), (X_test, y_test) = imdb.load_data(num_words=10000)"
      ]
    },
    {
      "cell_type": "markdown",
      "metadata": {
        "id": "6U4iCV9-rmay"
      },
      "source": [
        "We now can start playing around with the data, let’s first see the length:"
      ]
    },
    {
      "cell_type": "code",
      "execution_count": null,
      "metadata": {
        "id": "h-gjWRAuqg5s",
        "colab": {
          "base_uri": "https://localhost:8080/"
        },
        "outputId": "507fcdfe-ae01-4081-e3b6-934cce67ab9f"
      },
      "outputs": [
        {
          "output_type": "stream",
          "name": "stdout",
          "text": [
            "Training entries: 25000, labels: 25000\n"
          ]
        }
      ],
      "source": [
        "print(\"Training entries: {}, labels: {}\".format(len(X_train), len(y_train)))"
      ]
    },
    {
      "cell_type": "markdown",
      "metadata": {
        "id": "MTRZrpcyr-4x"
      },
      "source": [
        "The  reviews have been converted to integers and each integer represents a  word in a dictionary. "
      ]
    },
    {
      "cell_type": "code",
      "execution_count": null,
      "metadata": {
        "id": "79Ev72Kgq4XL",
        "colab": {
          "base_uri": "https://localhost:8080/"
        },
        "outputId": "366d6989-462b-4534-e13e-71a72411ab4b"
      },
      "outputs": [
        {
          "output_type": "execute_result",
          "data": {
            "text/plain": [
              "[1, 14, 22, 16, 43, 530, 973, 1622, 1385, 65]"
            ]
          },
          "metadata": {},
          "execution_count": 49
        }
      ],
      "source": [
        " X_train[0][:10]"
      ]
    },
    {
      "cell_type": "markdown",
      "metadata": {
        "id": "Tvuu4KhStqei"
      },
      "source": [
        "We can convert integers back to words by querying a dictionary object that contains the integer to string mapping:"
      ]
    },
    {
      "cell_type": "code",
      "execution_count": null,
      "metadata": {
        "id": "gMCH1OoDrSNR"
      },
      "outputs": [],
      "source": [
        "word_index = imdb.get_word_index()"
      ]
    },
    {
      "cell_type": "markdown",
      "metadata": {
        "id": "5IreFXgruZot"
      },
      "source": [
        "Index 1 represents the beginning of the sentence and the index 2 is assigned to all unknown tokens. Index 0 will be used for padding."
      ]
    },
    {
      "cell_type": "code",
      "execution_count": null,
      "metadata": {
        "id": "abIb7Fe5u3GQ"
      },
      "outputs": [],
      "source": [
        "word_index = {k:(v+3) for k,v in word_index.items()}\n",
        "word_index[\"<PAD>\"] = 0\n",
        "word_index[\"<START>\"] = 1\n",
        "word_index[\"<UNK>\"] = 2  \n",
        "word_index[\"<UNUSED>\"] = 3"
      ]
    },
    {
      "cell_type": "markdown",
      "metadata": {
        "id": "9TnnSuspvC5b"
      },
      "source": [
        "To reverse key and values in a dictionary:"
      ]
    },
    {
      "cell_type": "code",
      "execution_count": null,
      "metadata": {
        "id": "nKOiVVXQu-_I"
      },
      "outputs": [],
      "source": [
        "reverse_word_index = dict([(value, key) for (key, value) in word_index.items()])"
      ]
    },
    {
      "cell_type": "markdown",
      "metadata": {
        "id": "ZmTJEm8xvUvW"
      },
      "source": [
        "To view a word:"
      ]
    },
    {
      "cell_type": "code",
      "execution_count": null,
      "metadata": {
        "id": "SqN5jgVKvJJZ",
        "colab": {
          "base_uri": "https://localhost:8080/",
          "height": 36
        },
        "outputId": "3e3a9915-49ca-4aae-9cf6-1e8f97810cc7"
      },
      "outputs": [
        {
          "output_type": "execute_result",
          "data": {
            "application/vnd.google.colaboratory.intrinsic+json": {
              "type": "string"
            },
            "text/plain": [
              "'you'"
            ]
          },
          "metadata": {},
          "execution_count": 53
        }
      ],
      "source": [
        "reverse_word_index[25]"
      ]
    },
    {
      "cell_type": "markdown",
      "metadata": {
        "id": "Q6QjrzgVvrYn"
      },
      "source": [
        "And to recreate the whole sentence from our training data we define decode_review:\n"
      ]
    },
    {
      "cell_type": "code",
      "execution_count": null,
      "metadata": {
        "id": "wvrKeMgxvWlv"
      },
      "outputs": [],
      "source": [
        "def decode_review(text):\n",
        "    return ' '.join([reverse_word_index.get(i, '?') for i in text])"
      ]
    },
    {
      "cell_type": "code",
      "execution_count": null,
      "metadata": {
        "id": "Sxg4YA_NvdRg",
        "colab": {
          "base_uri": "https://localhost:8080/",
          "height": 91
        },
        "outputId": "7f72b419-8860-4349-f1ee-e416a02422c5"
      },
      "outputs": [
        {
          "output_type": "execute_result",
          "data": {
            "application/vnd.google.colaboratory.intrinsic+json": {
              "type": "string"
            },
            "text/plain": [
              "\"<START> french horror cinema has seen something of a revival over the last couple of years with great films such as inside and <UNK> romance <UNK> on to the scene <UNK> <UNK> the revival just slightly but stands head and shoulders over most modern horror titles and is surely one of the best french horror films ever made <UNK> was obviously shot on a low budget but this is made up for in far more ways than one by the originality of the film and this in turn is <UNK> by the excellent writing and acting that ensure the film is a winner the plot focuses on two main ideas prison and black magic the central character is a man named <UNK> sent to prison for fraud he is put in a cell with three others the quietly insane <UNK> body building <UNK> marcus and his retarded boyfriend daisy after a short while in the cell together they stumble upon a hiding place in the wall that contains an old <UNK> after <UNK> part of it they soon realise its magical powers and realise they may be able to use it to break through the prison walls br br black magic is a very interesting topic and i'm actually quite surprised that there aren't more films based on it as there's so much scope for things to do with it it's fair to say that <UNK> makes the best of it's <UNK> as despite it's <UNK> the film never actually feels restrained and manages to flow well throughout director eric <UNK> provides a great atmosphere for the film the fact that most of it takes place inside the central prison cell <UNK> that the film feels very claustrophobic and this immensely benefits the central idea of the prisoners wanting to use magic to break out of the cell it's very easy to get behind them it's often said that the unknown is the thing that really <UNK> people and this film proves that as the director <UNK> that we can never really be sure of exactly what is round the corner and this helps to ensure that <UNK> actually does manage to be quite frightening the film is memorable for a lot of reasons outside the central plot the characters are all very interesting in their own way and the fact that the book itself almost takes on its own character is very well done anyone worried that the film won't deliver by the end won't be disappointed either as the ending both makes sense and manages to be quite horrifying overall <UNK> is a truly great horror film and one of the best of the decade highly recommended viewing\""
            ]
          },
          "metadata": {},
          "execution_count": 55
        }
      ],
      "source": [
        "decode_review(X_train[10])"
      ]
    },
    {
      "cell_type": "markdown",
      "metadata": {
        "id": "c8gIzXncfaJK"
      },
      "source": [
        "### Creating One-hot word vectors"
      ]
    },
    {
      "cell_type": "markdown",
      "metadata": {
        "id": "B9W4yb3rv_E0"
      },
      "source": [
        "It is  common to use one-hot representation as input in Natural Language Processing tasks. In Keras, the Embedding layer takes an index as an input and convert it to one-hot vector with the length of the vocabulary size. Then multiplies these vectors by a normal weight matrix. But there is no way to only get a one-hot vector as the output of a layer in Keras. To solve this we use Lambda() layer and a function that creates the one-hot layer. "
      ]
    },
    {
      "cell_type": "code",
      "execution_count": null,
      "metadata": {
        "id": "RPO_pK9zH4C5"
      },
      "outputs": [],
      "source": [
        "def OneHot(input_dim=None, input_length=None):\n",
        "    \n",
        "    if input_dim is None or input_length is None:\n",
        "        raise TypeError(\"input_dim or input_length is not set\")\n",
        "\n",
        "    \n",
        "    def _one_hot(x, num_classes):\n",
        "        return K.one_hot(K.cast(x, 'uint8'),\n",
        "                          num_classes=num_classes)\n",
        "\n",
        "    return Lambda(_one_hot,\n",
        "                  arguments={'num_classes': input_dim},\n",
        "                  input_shape=(input_length,))"
      ]
    },
    {
      "cell_type": "markdown",
      "metadata": {
        "id": "364d3MAw0ez9"
      },
      "source": [
        "input_dim refers to the length of the one-hot vector and input_length refers to the length of the input sequence. Since the input to K.one_hot should be an integer tensor, we cast x to one (Keras passes around float tensors by default).\n",
        "\n"
      ]
    },
    {
      "cell_type": "markdown",
      "metadata": {
        "id": "VHz76GNA2M4r"
      },
      "source": [
        " Each text sequence has in most cases different length of words. Here, we fill sequences with a pad token (0) to fit the size. This special tokens is then masked not to be accounted in averaging, loss calculation etc. We set the maximum length to 256."
      ]
    },
    {
      "cell_type": "markdown",
      "metadata": {
        "id": "9G_o7PsvgSFt"
      },
      "source": [
        "### Preparing input data"
      ]
    },
    {
      "cell_type": "code",
      "execution_count": null,
      "metadata": {
        "id": "jiFn7sd_wF5j"
      },
      "outputs": [],
      "source": [
        "VOCAB_SIZE = 10000\n",
        "MAX_SEQUENCE_LENGTH = 256\n",
        "import keras\n",
        "X_train_enc = keras.preprocessing.sequence.pad_sequences(X_train,\n",
        "                                                        value=word_index[\"<PAD>\"],\n",
        "                                                        padding='post',\n",
        "                                                        maxlen=256)\n",
        "\n",
        "X_test_enc = keras.preprocessing.sequence.pad_sequences(X_test,\n",
        "                                                       value=word_index[\"<PAD>\"],\n",
        "                                                       padding='post',\n",
        "                                                       maxlen=256)"
      ]
    },
    {
      "cell_type": "markdown",
      "metadata": {
        "id": "kcjFH1wKF_7d"
      },
      "source": [
        "And to view a padded review:"
      ]
    },
    {
      "cell_type": "code",
      "execution_count": null,
      "metadata": {
        "id": "zwH4dcfW_a18",
        "colab": {
          "base_uri": "https://localhost:8080/"
        },
        "outputId": "7757b31b-5164-44cd-8e2f-17b9476e3fba"
      },
      "outputs": [
        {
          "output_type": "stream",
          "name": "stdout",
          "text": [
            "[   1  194 1153  194 8255   78  228    5    6 1463 4369 5012  134   26\n",
            "    4  715    8  118 1634   14  394   20   13  119  954  189  102    5\n",
            "  207  110 3103   21   14   69  188    8   30   23    7    4  249  126\n",
            "   93    4  114    9 2300 1523    5  647    4  116    9   35 8163    4\n",
            "  229    9  340 1322    4  118    9    4  130 4901   19    4 1002    5\n",
            "   89   29  952   46   37    4  455    9   45   43   38 1543 1905  398\n",
            "    4 1649   26 6853    5  163   11 3215    2    4 1153    9  194  775\n",
            "    7 8255    2  349 2637  148  605    2 8003   15  123  125   68    2\n",
            " 6853   15  349  165 4362   98    5    4  228    9   43    2 1157   15\n",
            "  299  120    5  120  174   11  220  175  136   50    9 4373  228 8255\n",
            "    5    2  656  245 2350    5    4 9837  131  152  491   18    2   32\n",
            " 7464 1212   14    9    6  371   78   22  625   64 1382    9    8  168\n",
            "  145   23    4 1690   15   16    4 1355    5   28    6   52  154  462\n",
            "   33   89   78  285   16  145   95    0    0    0    0    0    0    0\n",
            "    0    0    0    0    0    0    0    0    0    0    0    0    0    0\n",
            "    0    0    0    0    0    0    0    0    0    0    0    0    0    0\n",
            "    0    0    0    0    0    0    0    0    0    0    0    0    0    0\n",
            "    0    0    0    0    0    0    0    0    0    0    0    0    0    0\n",
            "    0    0    0    0]\n",
            "\n",
            "Length:  25000\n"
          ]
        }
      ],
      "source": [
        "print(X_train_enc[1])\n",
        "print('\\nLength: ',len(X_train_enc))"
      ]
    },
    {
      "cell_type": "markdown",
      "metadata": {
        "id": "F1zcxFwNGepA"
      },
      "source": [
        "Now we want to build the neural network model. We  are going to have a hidden layer with 16 hidden units. \n",
        "\n",
        "First, we want to transform each index to an embedded vector and then average all vectors to a single one. It has been showed that unweighted average of word vectors outperforms many complicated networks that model semantic and syntactic compositionality. As an example you can take a look at this: (http://anthology.aclweb.org/P/P15/P15-1162.pdf)\n",
        "\n",
        "To average we need to ignore padded zeros:"
      ]
    },
    {
      "cell_type": "code",
      "execution_count": null,
      "metadata": {
        "id": "Yi04MLIvJOGZ"
      },
      "outputs": [],
      "source": [
        "class GlobalAveragePooling1DMasked(GlobalAveragePooling1D):\n",
        "    def call(self, x, mask=None):\n",
        "        if mask != None:\n",
        "            return K.sum(x, axis=1) / K.sum(mask, axis=1)\n",
        "        else:\n",
        "            return super().call(x)\n"
      ]
    },
    {
      "cell_type": "markdown",
      "metadata": {
        "id": "whgIIB5ggjna"
      },
      "source": [
        "# Model 1: Neural averaging network using one-hot vectors"
      ]
    },
    {
      "cell_type": "markdown",
      "metadata": {
        "id": "jlOLnlnSJgrU"
      },
      "source": [
        "The first layer is an one-hot layer. The second layer is to compute average on all word vectors in a sentence without considering padding. The  output vector is piped through a fully-connected layer. The last layer is connected with a single output node with the sigmoid activation function. The final value is a float between 0 and 1. \n",
        "The vocabulary count of the movie reviews (10000) is used as the input shape. At the end we visualize the model summary."
      ]
    },
    {
      "cell_type": "code",
      "execution_count": null,
      "metadata": {
        "colab": {
          "base_uri": "https://localhost:8080/"
        },
        "id": "_Pn83gBbxiK7",
        "outputId": "844b66ac-c7f3-42e8-e020-cdd9d10305c3"
      },
      "outputs": [
        {
          "output_type": "stream",
          "name": "stdout",
          "text": [
            "Model: \"model\"\n",
            "_________________________________________________________________\n",
            " Layer (type)                Output Shape              Param #   \n",
            "=================================================================\n",
            " input_1 (InputLayer)        [(None, 256)]             0         \n",
            "                                                                 \n",
            " lambda (Lambda)             (None, 256, 10000)        0         \n",
            "                                                                 \n",
            " global_average_pooling1d (G  (None, 10000)            0         \n",
            " lobalAveragePooling1D)                                          \n",
            "                                                                 \n",
            " dense_layer (Dense)         (None, 16)                160016    \n",
            "                                                                 \n",
            " dense_layer_output (Dense)  (None, 1)                 17        \n",
            "                                                                 \n",
            "=================================================================\n",
            "Total params: 160,033\n",
            "Trainable params: 160,033\n",
            "Non-trainable params: 0\n",
            "_________________________________________________________________\n"
          ]
        }
      ],
      "source": [
        "# your code goes here\n",
        "import tensorflow as tf\n",
        "from keras.models import Model\n",
        "# The input is an array of target indices e.g. [2, 45, 7, 23,...9]\n",
        "input = Input((256,), dtype='int32')\n",
        "lambdalayer = OneHot(VOCAB_SIZE, MAX_SEQUENCE_LENGTH)(input)\n",
        "avg_pool = GlobalAveragePooling1D()(lambdalayer) \n",
        "\n",
        "dense_layer = tf.keras.layers.Dense(units=16, name=\"dense_layer\")(avg_pool)\n",
        "output_layer = tf.keras.layers.Dense(units=1, name=\"dense_layer_output\", activation = 'sigmoid')(dense_layer)\n",
        "\n",
        "model = Model(inputs=[input], outputs=[output_layer])\n",
        "model.summary()"
      ]
    },
    {
      "cell_type": "markdown",
      "metadata": {
        "id": "_Mz96xpCgvTj"
      },
      "source": [
        "### Training the model"
      ]
    },
    {
      "cell_type": "markdown",
      "metadata": {
        "id": "F3HbW_IKLqwT"
      },
      "source": [
        "To compile the model we need a loss function and an optimizer. We use binary_crossentropy loss function which is just a special case of categorical cross entropy. We also use Adam optimizer that can be used instead of the classical stochastic gradient descent procedure to update network weights iterative based in training data. You can read more about it here:\n",
        "(https://arxiv.org/abs/1412.6980v8\n",
        ")\n"
      ]
    },
    {
      "cell_type": "code",
      "execution_count": null,
      "metadata": {
        "id": "qh1PWTNMxjUw"
      },
      "outputs": [],
      "source": [
        "# your code goes here\n",
        "model.compile(loss='binary_crossentropy', optimizer='adam', metrics=['accuracy'])"
      ]
    },
    {
      "cell_type": "markdown",
      "metadata": {
        "id": "E1jwQQqCN5Ia"
      },
      "source": [
        "When training, we want to check the accuracy of the model on data it hasn't seen before. So we create a validation set:"
      ]
    },
    {
      "cell_type": "code",
      "execution_count": null,
      "metadata": {
        "id": "f5lAqzQlxjSM"
      },
      "outputs": [],
      "source": [
        "X_val = np.array(X_train_enc[:10000])\n",
        "partial_X_train = np.array(X_train_enc[10000:])\n",
        "\n",
        "y_val = np.array(y_train[:10000])\n",
        "partial_y_train = np.array(y_train[10000:])"
      ]
    },
    {
      "cell_type": "markdown",
      "metadata": {
        "id": "E8Kpo5G3OJEY"
      },
      "source": [
        "Then we start to train the model for 40 epochs in mini-batches of 512 samples and monitor the model's loss and accuracy on the validation set."
      ]
    },
    {
      "cell_type": "code",
      "execution_count": null,
      "metadata": {
        "id": "99_z39KAxjPi",
        "colab": {
          "base_uri": "https://localhost:8080/"
        },
        "outputId": "2ffd4ac4-3258-47a6-e37e-fc5f211e4674"
      },
      "outputs": [
        {
          "output_type": "stream",
          "name": "stdout",
          "text": [
            "Epoch 1/40\n",
            "30/30 [==============================] - 11s 267ms/step - loss: 0.6923 - accuracy: 0.5133 - val_loss: 0.6912 - val_accuracy: 0.5764\n",
            "Epoch 2/40\n",
            "30/30 [==============================] - 8s 258ms/step - loss: 0.6900 - accuracy: 0.5901 - val_loss: 0.6889 - val_accuracy: 0.6379\n",
            "Epoch 3/40\n",
            "30/30 [==============================] - 8s 259ms/step - loss: 0.6872 - accuracy: 0.6130 - val_loss: 0.6859 - val_accuracy: 0.6440\n",
            "Epoch 4/40\n",
            "30/30 [==============================] - 8s 264ms/step - loss: 0.6835 - accuracy: 0.6626 - val_loss: 0.6821 - val_accuracy: 0.6658\n",
            "Epoch 5/40\n",
            "30/30 [==============================] - 8s 260ms/step - loss: 0.6792 - accuracy: 0.6777 - val_loss: 0.6778 - val_accuracy: 0.6736\n",
            "Epoch 6/40\n",
            "30/30 [==============================] - 8s 262ms/step - loss: 0.6742 - accuracy: 0.6812 - val_loss: 0.6728 - val_accuracy: 0.6722\n",
            "Epoch 7/40\n",
            "30/30 [==============================] - 8s 258ms/step - loss: 0.6687 - accuracy: 0.6839 - val_loss: 0.6674 - val_accuracy: 0.6750\n",
            "Epoch 8/40\n",
            "30/30 [==============================] - 8s 259ms/step - loss: 0.6629 - accuracy: 0.6851 - val_loss: 0.6618 - val_accuracy: 0.6829\n",
            "Epoch 9/40\n",
            "30/30 [==============================] - 8s 260ms/step - loss: 0.6566 - accuracy: 0.6813 - val_loss: 0.6560 - val_accuracy: 0.6671\n",
            "Epoch 10/40\n",
            "30/30 [==============================] - 10s 333ms/step - loss: 0.6506 - accuracy: 0.6861 - val_loss: 0.6499 - val_accuracy: 0.6841\n",
            "Epoch 11/40\n",
            "30/30 [==============================] - 8s 259ms/step - loss: 0.6440 - accuracy: 0.6905 - val_loss: 0.6439 - val_accuracy: 0.6870\n",
            "Epoch 12/40\n",
            "30/30 [==============================] - 8s 260ms/step - loss: 0.6375 - accuracy: 0.6945 - val_loss: 0.6379 - val_accuracy: 0.6903\n",
            "Epoch 13/40\n",
            "30/30 [==============================] - 8s 260ms/step - loss: 0.6312 - accuracy: 0.6960 - val_loss: 0.6322 - val_accuracy: 0.6942\n",
            "Epoch 14/40\n",
            "30/30 [==============================] - 8s 259ms/step - loss: 0.6248 - accuracy: 0.7013 - val_loss: 0.6261 - val_accuracy: 0.6923\n",
            "Epoch 15/40\n",
            "30/30 [==============================] - 8s 261ms/step - loss: 0.6189 - accuracy: 0.7042 - val_loss: 0.6203 - val_accuracy: 0.6969\n",
            "Epoch 16/40\n",
            "30/30 [==============================] - 8s 263ms/step - loss: 0.6129 - accuracy: 0.7043 - val_loss: 0.6170 - val_accuracy: 0.6972\n",
            "Epoch 17/40\n",
            "30/30 [==============================] - 8s 259ms/step - loss: 0.6072 - accuracy: 0.7094 - val_loss: 0.6099 - val_accuracy: 0.7091\n",
            "Epoch 18/40\n",
            "30/30 [==============================] - 8s 260ms/step - loss: 0.6014 - accuracy: 0.7157 - val_loss: 0.6043 - val_accuracy: 0.7079\n",
            "Epoch 19/40\n",
            "30/30 [==============================] - 8s 259ms/step - loss: 0.5964 - accuracy: 0.7149 - val_loss: 0.5996 - val_accuracy: 0.7143\n",
            "Epoch 20/40\n",
            "30/30 [==============================] - 10s 332ms/step - loss: 0.5910 - accuracy: 0.7167 - val_loss: 0.5943 - val_accuracy: 0.7127\n",
            "Epoch 21/40\n",
            "30/30 [==============================] - 8s 259ms/step - loss: 0.5859 - accuracy: 0.7192 - val_loss: 0.5897 - val_accuracy: 0.7172\n",
            "Epoch 22/40\n",
            "30/30 [==============================] - 8s 260ms/step - loss: 0.5809 - accuracy: 0.7222 - val_loss: 0.5853 - val_accuracy: 0.7214\n",
            "Epoch 23/40\n",
            "30/30 [==============================] - 8s 259ms/step - loss: 0.5761 - accuracy: 0.7265 - val_loss: 0.5813 - val_accuracy: 0.7225\n",
            "Epoch 24/40\n",
            "30/30 [==============================] - 8s 260ms/step - loss: 0.5717 - accuracy: 0.7267 - val_loss: 0.5764 - val_accuracy: 0.7244\n",
            "Epoch 25/40\n",
            "30/30 [==============================] - 8s 259ms/step - loss: 0.5677 - accuracy: 0.7303 - val_loss: 0.5728 - val_accuracy: 0.7263\n",
            "Epoch 26/40\n",
            "30/30 [==============================] - 8s 259ms/step - loss: 0.5637 - accuracy: 0.7325 - val_loss: 0.5690 - val_accuracy: 0.7285\n",
            "Epoch 27/40\n",
            "30/30 [==============================] - 8s 260ms/step - loss: 0.5597 - accuracy: 0.7339 - val_loss: 0.5651 - val_accuracy: 0.7303\n",
            "Epoch 28/40\n",
            "30/30 [==============================] - 8s 259ms/step - loss: 0.5564 - accuracy: 0.7365 - val_loss: 0.5618 - val_accuracy: 0.7300\n",
            "Epoch 29/40\n",
            "30/30 [==============================] - 8s 259ms/step - loss: 0.5527 - accuracy: 0.7369 - val_loss: 0.5586 - val_accuracy: 0.7307\n",
            "Epoch 30/40\n",
            "30/30 [==============================] - 8s 259ms/step - loss: 0.5494 - accuracy: 0.7395 - val_loss: 0.5556 - val_accuracy: 0.7353\n",
            "Epoch 31/40\n",
            "30/30 [==============================] - 8s 260ms/step - loss: 0.5464 - accuracy: 0.7419 - val_loss: 0.5532 - val_accuracy: 0.7355\n",
            "Epoch 32/40\n",
            "30/30 [==============================] - 8s 260ms/step - loss: 0.5438 - accuracy: 0.7423 - val_loss: 0.5506 - val_accuracy: 0.7364\n",
            "Epoch 33/40\n",
            "30/30 [==============================] - 8s 259ms/step - loss: 0.5410 - accuracy: 0.7428 - val_loss: 0.5490 - val_accuracy: 0.7353\n",
            "Epoch 34/40\n",
            "30/30 [==============================] - 8s 260ms/step - loss: 0.5386 - accuracy: 0.7463 - val_loss: 0.5458 - val_accuracy: 0.7394\n",
            "Epoch 35/40\n",
            "30/30 [==============================] - 8s 260ms/step - loss: 0.5362 - accuracy: 0.7460 - val_loss: 0.5434 - val_accuracy: 0.7411\n",
            "Epoch 36/40\n",
            "30/30 [==============================] - 8s 259ms/step - loss: 0.5338 - accuracy: 0.7465 - val_loss: 0.5423 - val_accuracy: 0.7385\n",
            "Epoch 37/40\n",
            "30/30 [==============================] - 8s 259ms/step - loss: 0.5320 - accuracy: 0.7480 - val_loss: 0.5400 - val_accuracy: 0.7406\n",
            "Epoch 38/40\n",
            "30/30 [==============================] - 8s 259ms/step - loss: 0.5300 - accuracy: 0.7489 - val_loss: 0.5375 - val_accuracy: 0.7446\n",
            "Epoch 39/40\n",
            "30/30 [==============================] - 8s 259ms/step - loss: 0.5284 - accuracy: 0.7479 - val_loss: 0.5361 - val_accuracy: 0.7422\n",
            "Epoch 40/40\n",
            "30/30 [==============================] - 8s 259ms/step - loss: 0.5264 - accuracy: 0.7507 - val_loss: 0.5343 - val_accuracy: 0.7455\n"
          ]
        }
      ],
      "source": [
        "history = model.fit(partial_X_train,\n",
        "                    partial_y_train,\n",
        "                    epochs=40,\n",
        "                    batch_size=512,\n",
        "                    validation_data=(X_val, y_val),\n",
        "                    verbose=1)"
      ]
    },
    {
      "cell_type": "markdown",
      "metadata": {
        "id": "i_9a_rybhG5J"
      },
      "source": [
        "### Evaluating the model"
      ]
    },
    {
      "cell_type": "markdown",
      "metadata": {
        "id": "EYLH8kOgOo9W"
      },
      "source": [
        "To evaulate the model on test data:"
      ]
    },
    {
      "cell_type": "code",
      "execution_count": null,
      "metadata": {
        "id": "CFMt2Q7b3taP",
        "colab": {
          "base_uri": "https://localhost:8080/"
        },
        "outputId": "e787ee42-89cf-4a1a-ef92-9ab04a8e0809"
      },
      "outputs": [
        {
          "output_type": "stream",
          "name": "stdout",
          "text": [
            "782/782 [==============================] - 10s 13ms/step - loss: 0.5342 - accuracy: 0.7426\n"
          ]
        }
      ],
      "source": [
        "results = model.evaluate(X_test_enc, y_test)"
      ]
    },
    {
      "cell_type": "code",
      "execution_count": null,
      "metadata": {
        "id": "9RrKiPHcAmQU",
        "colab": {
          "base_uri": "https://localhost:8080/"
        },
        "outputId": "61861e33-19b6-400f-9254-30c7454b46f2"
      },
      "outputs": [
        {
          "output_type": "stream",
          "name": "stdout",
          "text": [
            "[0.5341730713844299, 0.7426000237464905]\n"
          ]
        }
      ],
      "source": [
        "print(results)\n",
        "# loss, accuracay "
      ]
    },
    {
      "cell_type": "markdown",
      "metadata": {
        "id": "pW7IpHxMO6qp"
      },
      "source": [
        "Our first model accuracy using one-hot vectors is ~74%\n",
        "\n",
        "\n",
        "\n",
        "\n",
        "\n"
      ]
    },
    {
      "cell_type": "markdown",
      "metadata": {
        "id": "OwZk_yoWhPJB"
      },
      "source": [
        "### Plotting the accuracy graph"
      ]
    },
    {
      "cell_type": "code",
      "source": [
        "!pip install plot_keras_history\n",
        "from plot_keras_history import plot_history\n",
        "import matplotlib.pyplot as plt"
      ],
      "metadata": {
        "colab": {
          "base_uri": "https://localhost:8080/"
        },
        "id": "KHLNfphtQD11",
        "outputId": "58bc6e76-ddb6-4787-86e8-78d125533590"
      },
      "execution_count": null,
      "outputs": [
        {
          "output_type": "stream",
          "name": "stdout",
          "text": [
            "Collecting plot_keras_history\n",
            "  Downloading plot_keras_history-1.1.30.tar.gz (8.6 kB)\n",
            "Requirement already satisfied: matplotlib in /usr/local/lib/python3.7/dist-packages (from plot_keras_history) (3.2.2)\n",
            "Requirement already satisfied: pandas in /usr/local/lib/python3.7/dist-packages (from plot_keras_history) (1.3.5)\n",
            "Requirement already satisfied: scipy in /usr/local/lib/python3.7/dist-packages (from plot_keras_history) (1.4.1)\n",
            "Collecting sanitize_ml_labels>=1.0.28\n",
            "  Downloading sanitize_ml_labels-1.0.29.tar.gz (7.4 kB)\n",
            "Collecting compress_json\n",
            "  Downloading compress_json-1.0.4.tar.gz (4.7 kB)\n",
            "Requirement already satisfied: pyparsing!=2.0.4,!=2.1.2,!=2.1.6,>=2.0.1 in /usr/local/lib/python3.7/dist-packages (from matplotlib->plot_keras_history) (3.0.7)\n",
            "Requirement already satisfied: numpy>=1.11 in /usr/local/lib/python3.7/dist-packages (from matplotlib->plot_keras_history) (1.21.5)\n",
            "Requirement already satisfied: kiwisolver>=1.0.1 in /usr/local/lib/python3.7/dist-packages (from matplotlib->plot_keras_history) (1.3.2)\n",
            "Requirement already satisfied: python-dateutil>=2.1 in /usr/local/lib/python3.7/dist-packages (from matplotlib->plot_keras_history) (2.8.2)\n",
            "Requirement already satisfied: cycler>=0.10 in /usr/local/lib/python3.7/dist-packages (from matplotlib->plot_keras_history) (0.11.0)\n",
            "Requirement already satisfied: six>=1.5 in /usr/local/lib/python3.7/dist-packages (from python-dateutil>=2.1->matplotlib->plot_keras_history) (1.15.0)\n",
            "Requirement already satisfied: pytz>=2017.3 in /usr/local/lib/python3.7/dist-packages (from pandas->plot_keras_history) (2018.9)\n",
            "Building wheels for collected packages: plot-keras-history, sanitize-ml-labels, compress-json\n",
            "  Building wheel for plot-keras-history (setup.py) ... \u001b[?25l\u001b[?25hdone\n",
            "  Created wheel for plot-keras-history: filename=plot_keras_history-1.1.30-py3-none-any.whl size=8794 sha256=39adf38cac3f37c6405a4715c4c2d981ed143cb637021150783468a662d388aa\n",
            "  Stored in directory: /root/.cache/pip/wheels/b0/60/47/8c5aa37c06be5e97879ec467bc2e6a30b315d95f662c63a503\n",
            "  Building wheel for sanitize-ml-labels (setup.py) ... \u001b[?25l\u001b[?25hdone\n",
            "  Created wheel for sanitize-ml-labels: filename=sanitize_ml_labels-1.0.29-py3-none-any.whl size=7878 sha256=5690c3f0c5000c654ab3a86c8474a7d4423703755529e2da3953a84dfd50dc85\n",
            "  Stored in directory: /root/.cache/pip/wheels/c2/f5/71/d1c459da10abec864a1979b449edbf37d4a82ab3e38a3625a8\n",
            "  Building wheel for compress-json (setup.py) ... \u001b[?25l\u001b[?25hdone\n",
            "  Created wheel for compress-json: filename=compress_json-1.0.4-py3-none-any.whl size=4588 sha256=8f01f9b8eab66c827e0e077daca3af3acf2477dd994e9ab01e07614d5b53265d\n",
            "  Stored in directory: /root/.cache/pip/wheels/1e/ef/1e/5d403c5632b0462471a8d26049d0c138134d0255ec60ce4c14\n",
            "Successfully built plot-keras-history sanitize-ml-labels compress-json\n",
            "Installing collected packages: compress-json, sanitize-ml-labels, plot-keras-history\n",
            "Successfully installed compress-json-1.0.4 plot-keras-history-1.1.30 sanitize-ml-labels-1.0.29\n"
          ]
        }
      ]
    },
    {
      "cell_type": "markdown",
      "metadata": {
        "id": "JIDPH1J7PMzN"
      },
      "source": [
        "To plot a graph of accuracy and loss over time we can use Matplotlib:"
      ]
    },
    {
      "cell_type": "code",
      "execution_count": null,
      "metadata": {
        "id": "LS9k2vvSAqB7",
        "colab": {
          "base_uri": "https://localhost:8080/",
          "height": 920
        },
        "outputId": "f10c2600-133b-4cea-adea-759b79a35aea"
      },
      "outputs": [
        {
          "output_type": "stream",
          "name": "stdout",
          "text": [
            "Collecting plot_keras_history\n",
            "  Downloading plot_keras_history-1.1.30.tar.gz (8.6 kB)\n",
            "Requirement already satisfied: matplotlib in /usr/local/lib/python3.7/dist-packages (from plot_keras_history) (3.2.2)\n",
            "Requirement already satisfied: pandas in /usr/local/lib/python3.7/dist-packages (from plot_keras_history) (1.3.5)\n",
            "Requirement already satisfied: scipy in /usr/local/lib/python3.7/dist-packages (from plot_keras_history) (1.4.1)\n",
            "Collecting sanitize_ml_labels>=1.0.28\n",
            "  Downloading sanitize_ml_labels-1.0.29.tar.gz (7.4 kB)\n",
            "Collecting compress_json\n",
            "  Downloading compress_json-1.0.4.tar.gz (4.7 kB)\n",
            "Requirement already satisfied: kiwisolver>=1.0.1 in /usr/local/lib/python3.7/dist-packages (from matplotlib->plot_keras_history) (1.3.2)\n",
            "Requirement already satisfied: numpy>=1.11 in /usr/local/lib/python3.7/dist-packages (from matplotlib->plot_keras_history) (1.21.5)\n",
            "Requirement already satisfied: pyparsing!=2.0.4,!=2.1.2,!=2.1.6,>=2.0.1 in /usr/local/lib/python3.7/dist-packages (from matplotlib->plot_keras_history) (3.0.7)\n",
            "Requirement already satisfied: cycler>=0.10 in /usr/local/lib/python3.7/dist-packages (from matplotlib->plot_keras_history) (0.11.0)\n",
            "Requirement already satisfied: python-dateutil>=2.1 in /usr/local/lib/python3.7/dist-packages (from matplotlib->plot_keras_history) (2.8.2)\n",
            "Requirement already satisfied: six>=1.5 in /usr/local/lib/python3.7/dist-packages (from python-dateutil>=2.1->matplotlib->plot_keras_history) (1.15.0)\n",
            "Requirement already satisfied: pytz>=2017.3 in /usr/local/lib/python3.7/dist-packages (from pandas->plot_keras_history) (2018.9)\n",
            "Building wheels for collected packages: plot-keras-history, sanitize-ml-labels, compress-json\n",
            "  Building wheel for plot-keras-history (setup.py) ... \u001b[?25l\u001b[?25hdone\n",
            "  Created wheel for plot-keras-history: filename=plot_keras_history-1.1.30-py3-none-any.whl size=8794 sha256=3006a31106d36b4d1732f2265e745cd25f2ed5b85e3c7343e83a565060f44ffa\n",
            "  Stored in directory: /root/.cache/pip/wheels/b0/60/47/8c5aa37c06be5e97879ec467bc2e6a30b315d95f662c63a503\n",
            "  Building wheel for sanitize-ml-labels (setup.py) ... \u001b[?25l\u001b[?25hdone\n",
            "  Created wheel for sanitize-ml-labels: filename=sanitize_ml_labels-1.0.29-py3-none-any.whl size=7878 sha256=dfe198befb21b833e41a8d9bde1707b209aa8c76653193bbc154428be06462cc\n",
            "  Stored in directory: /root/.cache/pip/wheels/c2/f5/71/d1c459da10abec864a1979b449edbf37d4a82ab3e38a3625a8\n",
            "  Building wheel for compress-json (setup.py) ... \u001b[?25l\u001b[?25hdone\n",
            "  Created wheel for compress-json: filename=compress_json-1.0.4-py3-none-any.whl size=4588 sha256=896450bc72ae905018d59aab7f6603a6cbb88aa75856d58835ccbd55ac568e95\n",
            "  Stored in directory: /root/.cache/pip/wheels/1e/ef/1e/5d403c5632b0462471a8d26049d0c138134d0255ec60ce4c14\n",
            "Successfully built plot-keras-history sanitize-ml-labels compress-json\n",
            "Installing collected packages: compress-json, sanitize-ml-labels, plot-keras-history\n",
            "Successfully installed compress-json-1.0.4 plot-keras-history-1.1.30 sanitize-ml-labels-1.0.29\n"
          ]
        },
        {
          "output_type": "display_data",
          "data": {
            "image/png": "[encoded data removed]",
            "text/plain": [
              "<Figure size 720x360 with 2 Axes>"
            ]
          },
          "metadata": {
            "needs_background": "light"
          }
        }
      ],
      "source": [
        "# your code goes here\n",
        "!pip install plot_keras_history\n",
        "from plot_keras_history import plot_history\n",
        "import matplotlib.pyplot as plt\n",
        "plot_history(history.history, path=\"standard.png\")\n",
        "plt.show()"
      ]
    },
    {
      "cell_type": "markdown",
      "metadata": {
        "id": "a7OwOQw4h8RX"
      },
      "source": [
        "# Model 2: Neural averaging network using embedding layer"
      ]
    },
    {
      "cell_type": "markdown",
      "metadata": {
        "id": "l-QzOMO_P4jc"
      },
      "source": [
        "Now instead of one-hot vectors, we want to use embedding. We change our first layer in model1 to an Embedding layer. This layer takes the integer-encoded vocabulary and looks up the embedding vector for each word-index. These vectors are learned as the model trains. The vectors add a dimension to the output array. The resulting dimensions are: (batch, sequence, embedding)."
      ]
    },
    {
      "cell_type": "code",
      "execution_count": null,
      "metadata": {
        "id": "MFrCsL-NBFVL",
        "colab": {
          "base_uri": "https://localhost:8080/"
        },
        "outputId": "24aa806e-9d90-44f2-bd01-130c1d637d21"
      },
      "outputs": [
        {
          "output_type": "stream",
          "name": "stdout",
          "text": [
            "Model: \"model_1\"\n",
            "_________________________________________________________________\n",
            " Layer (type)                Output Shape              Param #   \n",
            "=================================================================\n",
            " input_2 (InputLayer)        [(None, 256)]             0         \n",
            "                                                                 \n",
            " target_embed_layer (Embeddi  (None, 256, 16)          160000    \n",
            " ng)                                                             \n",
            "                                                                 \n",
            " global_average_pooling1d_1   (None, 16)               0         \n",
            " (GlobalAveragePooling1D)                                        \n",
            "                                                                 \n",
            " dense_layer (Dense)         (None, 16)                272       \n",
            "                                                                 \n",
            " dense_layer_output (Dense)  (None, 1)                 17        \n",
            "                                                                 \n",
            "=================================================================\n",
            "Total params: 160,289\n",
            "Trainable params: 160,289\n",
            "Non-trainable params: 0\n",
            "_________________________________________________________________\n"
          ]
        }
      ],
      "source": [
        "# your code goes here\n",
        "from keras.models import Model\n",
        "# The input is an array of target indices e.g. [2, 45, 7, 23,...9]\n",
        "input = Input((256,), dtype='int32')\n",
        "embedding = Embedding(VOCAB_SIZE, 16, name='target_embed_layer',\n",
        "                        \tembeddings_initializer='glorot_uniform',\n",
        "                         \tinput_length=500, mask_zero=True)(input)\n",
        "avg_pool = GlobalAveragePooling1D()(embedding) \n",
        "\n",
        "dense_layer = tf.keras.layers.Dense(units=16, name=\"dense_layer\")(avg_pool)\n",
        "output_layer = tf.keras.layers.Dense(units=1, name=\"dense_layer_output\", activation = 'sigmoid')(dense_layer)\n",
        "\n",
        "model2 = Model(inputs=[input], outputs=[output_layer])\n",
        "model2.compile(loss='binary_crossentropy', optimizer='adam', metrics=['accuracy'])\n",
        "model2.summary()\n"
      ]
    },
    {
      "cell_type": "code",
      "source": [
        "history = model2.fit(partial_X_train,\n",
        "                    partial_y_train,\n",
        "                    epochs=40,\n",
        "                    batch_size=512,\n",
        "                    validation_data=(X_val, y_val),\n",
        "                    verbose=1)"
      ],
      "metadata": {
        "colab": {
          "base_uri": "https://localhost:8080/"
        },
        "id": "5QIoBdjY8WOr",
        "outputId": "a47aa7b1-af69-4581-cde0-40f5068aef84"
      },
      "execution_count": null,
      "outputs": [
        {
          "output_type": "stream",
          "name": "stdout",
          "text": [
            "Epoch 1/40\n",
            "30/30 [==============================] - 2s 17ms/step - loss: 0.6909 - accuracy: 0.5436 - val_loss: 0.6872 - val_accuracy: 0.7400\n",
            "Epoch 2/40\n",
            "30/30 [==============================] - 0s 11ms/step - loss: 0.6797 - accuracy: 0.7590 - val_loss: 0.6712 - val_accuracy: 0.7469\n",
            "Epoch 3/40\n",
            "30/30 [==============================] - 0s 15ms/step - loss: 0.6545 - accuracy: 0.7687 - val_loss: 0.6392 - val_accuracy: 0.7611\n",
            "Epoch 4/40\n",
            "30/30 [==============================] - 0s 15ms/step - loss: 0.6116 - accuracy: 0.7824 - val_loss: 0.5926 - val_accuracy: 0.7777\n",
            "Epoch 5/40\n",
            "30/30 [==============================] - 0s 11ms/step - loss: 0.5553 - accuracy: 0.8026 - val_loss: 0.5378 - val_accuracy: 0.7923\n",
            "Epoch 6/40\n",
            "30/30 [==============================] - 0s 12ms/step - loss: 0.4942 - accuracy: 0.8277 - val_loss: 0.4834 - val_accuracy: 0.8175\n",
            "Epoch 7/40\n",
            "30/30 [==============================] - 0s 11ms/step - loss: 0.4370 - accuracy: 0.8484 - val_loss: 0.4361 - val_accuracy: 0.8353\n",
            "Epoch 8/40\n",
            "30/30 [==============================] - 0s 12ms/step - loss: 0.3886 - accuracy: 0.8665 - val_loss: 0.3991 - val_accuracy: 0.8478\n",
            "Epoch 9/40\n",
            "30/30 [==============================] - 0s 15ms/step - loss: 0.3499 - accuracy: 0.8751 - val_loss: 0.3706 - val_accuracy: 0.8548\n",
            "Epoch 10/40\n",
            "30/30 [==============================] - 1s 18ms/step - loss: 0.3192 - accuracy: 0.8858 - val_loss: 0.3494 - val_accuracy: 0.8607\n",
            "Epoch 11/40\n",
            "30/30 [==============================] - 1s 17ms/step - loss: 0.2941 - accuracy: 0.8945 - val_loss: 0.3333 - val_accuracy: 0.8672\n",
            "Epoch 12/40\n",
            "30/30 [==============================] - 1s 18ms/step - loss: 0.2729 - accuracy: 0.9015 - val_loss: 0.3212 - val_accuracy: 0.8713\n",
            "Epoch 13/40\n",
            "30/30 [==============================] - 1s 20ms/step - loss: 0.2551 - accuracy: 0.9087 - val_loss: 0.3110 - val_accuracy: 0.8757\n",
            "Epoch 14/40\n",
            "30/30 [==============================] - 1s 17ms/step - loss: 0.2393 - accuracy: 0.9131 - val_loss: 0.3032 - val_accuracy: 0.8766\n",
            "Epoch 15/40\n",
            "30/30 [==============================] - 1s 18ms/step - loss: 0.2250 - accuracy: 0.9192 - val_loss: 0.2969 - val_accuracy: 0.8792\n",
            "Epoch 16/40\n",
            "30/30 [==============================] - 0s 15ms/step - loss: 0.2124 - accuracy: 0.9237 - val_loss: 0.2926 - val_accuracy: 0.8810\n",
            "Epoch 17/40\n",
            "30/30 [==============================] - 1s 21ms/step - loss: 0.2006 - accuracy: 0.9291 - val_loss: 0.2896 - val_accuracy: 0.8813\n",
            "Epoch 18/40\n",
            "30/30 [==============================] - 1s 18ms/step - loss: 0.1900 - accuracy: 0.9329 - val_loss: 0.2864 - val_accuracy: 0.8832\n",
            "Epoch 19/40\n",
            "30/30 [==============================] - 1s 17ms/step - loss: 0.1801 - accuracy: 0.9370 - val_loss: 0.2843 - val_accuracy: 0.8838\n",
            "Epoch 20/40\n",
            "30/30 [==============================] - 1s 17ms/step - loss: 0.1710 - accuracy: 0.9411 - val_loss: 0.2828 - val_accuracy: 0.8836\n",
            "Epoch 21/40\n",
            "30/30 [==============================] - 1s 19ms/step - loss: 0.1621 - accuracy: 0.9457 - val_loss: 0.2828 - val_accuracy: 0.8841\n",
            "Epoch 22/40\n",
            "30/30 [==============================] - 1s 18ms/step - loss: 0.1540 - accuracy: 0.9493 - val_loss: 0.2830 - val_accuracy: 0.8831\n",
            "Epoch 23/40\n",
            "30/30 [==============================] - 1s 19ms/step - loss: 0.1463 - accuracy: 0.9519 - val_loss: 0.2838 - val_accuracy: 0.8848\n",
            "Epoch 24/40\n",
            "30/30 [==============================] - 1s 20ms/step - loss: 0.1391 - accuracy: 0.9552 - val_loss: 0.2851 - val_accuracy: 0.8846\n",
            "Epoch 25/40\n",
            "30/30 [==============================] - 1s 18ms/step - loss: 0.1326 - accuracy: 0.9576 - val_loss: 0.2885 - val_accuracy: 0.8829\n",
            "Epoch 26/40\n",
            "30/30 [==============================] - 1s 17ms/step - loss: 0.1257 - accuracy: 0.9601 - val_loss: 0.2889 - val_accuracy: 0.8847\n",
            "Epoch 27/40\n",
            "30/30 [==============================] - 0s 17ms/step - loss: 0.1193 - accuracy: 0.9641 - val_loss: 0.2925 - val_accuracy: 0.8832\n",
            "Epoch 28/40\n",
            "30/30 [==============================] - 1s 19ms/step - loss: 0.1141 - accuracy: 0.9658 - val_loss: 0.2949 - val_accuracy: 0.8835\n",
            "Epoch 29/40\n",
            "30/30 [==============================] - 1s 20ms/step - loss: 0.1077 - accuracy: 0.9693 - val_loss: 0.2986 - val_accuracy: 0.8834\n",
            "Epoch 30/40\n",
            "30/30 [==============================] - 1s 21ms/step - loss: 0.1021 - accuracy: 0.9713 - val_loss: 0.3020 - val_accuracy: 0.8828\n",
            "Epoch 31/40\n",
            "30/30 [==============================] - 1s 18ms/step - loss: 0.0971 - accuracy: 0.9729 - val_loss: 0.3060 - val_accuracy: 0.8819\n",
            "Epoch 32/40\n",
            "30/30 [==============================] - 1s 18ms/step - loss: 0.0922 - accuracy: 0.9756 - val_loss: 0.3108 - val_accuracy: 0.8815\n",
            "Epoch 33/40\n",
            "30/30 [==============================] - 1s 18ms/step - loss: 0.0874 - accuracy: 0.9775 - val_loss: 0.3156 - val_accuracy: 0.8818\n",
            "Epoch 34/40\n",
            "30/30 [==============================] - 0s 16ms/step - loss: 0.0829 - accuracy: 0.9793 - val_loss: 0.3209 - val_accuracy: 0.8805\n",
            "Epoch 35/40\n",
            "30/30 [==============================] - 1s 18ms/step - loss: 0.0786 - accuracy: 0.9816 - val_loss: 0.3273 - val_accuracy: 0.8781\n",
            "Epoch 36/40\n",
            "30/30 [==============================] - 1s 19ms/step - loss: 0.0743 - accuracy: 0.9833 - val_loss: 0.3317 - val_accuracy: 0.8794\n",
            "Epoch 37/40\n",
            "30/30 [==============================] - 1s 18ms/step - loss: 0.0703 - accuracy: 0.9844 - val_loss: 0.3376 - val_accuracy: 0.8784\n",
            "Epoch 38/40\n",
            "30/30 [==============================] - 0s 12ms/step - loss: 0.0666 - accuracy: 0.9856 - val_loss: 0.3432 - val_accuracy: 0.8788\n",
            "Epoch 39/40\n",
            "30/30 [==============================] - 0s 11ms/step - loss: 0.0632 - accuracy: 0.9867 - val_loss: 0.3495 - val_accuracy: 0.8767\n",
            "Epoch 40/40\n",
            "30/30 [==============================] - 0s 11ms/step - loss: 0.0594 - accuracy: 0.9883 - val_loss: 0.3561 - val_accuracy: 0.8768\n"
          ]
        }
      ]
    },
    {
      "cell_type": "code",
      "execution_count": null,
      "metadata": {
        "id": "I4zIPJDcTPq3",
        "colab": {
          "base_uri": "https://localhost:8080/"
        },
        "outputId": "382f2e04-2d05-4eb4-d303-a10ff7bf9b26"
      },
      "outputs": [
        {
          "output_type": "stream",
          "name": "stdout",
          "text": [
            "782/782 [==============================] - 3s 3ms/step - loss: 0.3889 - accuracy: 0.8633\n"
          ]
        }
      ],
      "source": [
        "results = model2.evaluate(X_test_enc, y_test)"
      ]
    },
    {
      "cell_type": "code",
      "execution_count": null,
      "metadata": {
        "id": "waS96edDTRyL",
        "colab": {
          "base_uri": "https://localhost:8080/"
        },
        "outputId": "433d4a0e-d178-4871-eb3c-41df092f18ea"
      },
      "outputs": [
        {
          "output_type": "stream",
          "name": "stdout",
          "text": [
            "[0.38885942101478577, 0.863319993019104]\n"
          ]
        }
      ],
      "source": [
        "print (results)"
      ]
    },
    {
      "cell_type": "code",
      "source": [
        "plot_history(history.history, path=\"standard.png\")\n",
        "plt.show()"
      ],
      "metadata": {
        "colab": {
          "base_uri": "https://localhost:8080/",
          "height": 384
        },
        "id": "gz3qzE7X3qZS",
        "outputId": "b5a6baa0-ad2d-4a9f-8c82-5d53cc1d9615"
      },
      "execution_count": null,
      "outputs": [
        {
          "output_type": "display_data",
          "data": {
            "image/png": "[encoded data removed]",
            "text/plain": [
              "<Figure size 720x360 with 2 Axes>"
            ]
          },
          "metadata": {
            "needs_background": "light"
          }
        }
      ]
    },
    {
      "cell_type": "markdown",
      "metadata": {
        "id": "7FBpTc_rXGvQ"
      },
      "source": [
        "The accuracy of model2 is 87%. Using Embedding layer instead of one-hot layer improved the performance."
      ]
    },
    {
      "cell_type": "markdown",
      "metadata": {
        "id": "--020hfG6rN2"
      },
      "source": [
        "# Model 3: Using pre-trained word embeddings"
      ]
    },
    {
      "cell_type": "markdown",
      "metadata": {
        "id": "7GdY2-64YG1B"
      },
      "source": [
        "### Preparing pre-trained word embeddings (GLOVE)"
      ]
    },
    {
      "cell_type": "markdown",
      "metadata": {
        "id": "J4gBeOyi4gkM"
      },
      "source": [
        "The Embedding layer can be used to load a pre-trained word embedding model. We are going to use GloVe embeddings, which you can read about it here (https://nlp.stanford.edu/projects/glove/). GloVe stands for \"Global Vectors for Word Representation\". It's a somewhat popular embedding technique based on factorizing a matrix of word co-occurence statistics. You can download GloVe and we can seed the Keras Embedding layer with weights from the pre-trained embedding for the words in your dataset.\n",
        "First, we need to read GloVe and map words to GloVe:\n"
      ]
    },
    {
      "cell_type": "code",
      "execution_count": null,
      "metadata": {
        "id": "f_PypdqG9Iis"
      },
      "outputs": [],
      "source": [
        "def readGloveFile(gloveFile):\n",
        "    with open(gloveFile, 'r') as f:\n",
        "        wordToGlove = {}  \n",
        "        wordToIndex = {}  \n",
        "        indexToWord = {}  \n",
        "\n",
        "        for line in f:\n",
        "            record = line.strip().split()\n",
        "            token = record[0] \n",
        "            wordToGlove[token] = np.array(record[1:], dtype=np.float64) \n",
        "            \n",
        "        tokens = sorted(wordToGlove.keys())\n",
        "        for idx, tok in enumerate(tokens):\n",
        "            kerasIdx = idx + 1  \n",
        "            wordToIndex[tok] = kerasIdx \n",
        "            indexToWord[kerasIdx] = tok \n",
        "\n",
        "    return wordToIndex, indexToWord, wordToGlove"
      ]
    },
    {
      "cell_type": "markdown",
      "metadata": {
        "id": "ZcIZ3dq59bCh"
      },
      "source": [
        "Now, we create our pre-trained Embedding layer:"
      ]
    },
    {
      "cell_type": "code",
      "execution_count": null,
      "metadata": {
        "id": "gembn7VM3ex8"
      },
      "outputs": [],
      "source": [
        "from keras.initializers import Constant\n",
        "\n",
        "def createPretrainedEmbeddingLayer(wordToGlove, wordToIndex, isTrainable):\n",
        "    vocabLen = len(wordToIndex) + 1  \n",
        "    embDim = next(iter(wordToGlove.values())).shape[0]  \n",
        "   \n",
        "    embeddingMatrix = np.zeros((vocabLen, embDim))  \n",
        "    for word, index in wordToIndex.items():\n",
        "        embeddingMatrix[index, :] = wordToGlove[word] \n",
        "\n",
        "    embeddingLayer = Embedding(vocabLen, embDim, embeddings_initializer=Constant(embeddingMatrix), trainable=isTrainable, name='GloVe_Embeddings')\n",
        "    return embeddingLayer"
      ]
    },
    {
      "cell_type": "code",
      "execution_count": null,
      "metadata": {
        "colab": {
          "base_uri": "https://localhost:8080/"
        },
        "id": "8OC1wuctdFvA",
        "outputId": "36f15d93-44db-48bf-b972-73ad43e2027a"
      },
      "outputs": [
        {
          "output_type": "stream",
          "name": "stdout",
          "text": [
            "--2022-03-08 15:58:25--  http://nlp.stanford.edu/data/glove.6B.zip\n",
            "Resolving nlp.stanford.edu (nlp.stanford.edu)... 171.64.67.140\n",
            "Connecting to nlp.stanford.edu (nlp.stanford.edu)|171.64.67.140|:80... connected.\n",
            "HTTP request sent, awaiting response... 302 Found\n",
            "Location: https://nlp.stanford.edu/data/glove.6B.zip [following]\n",
            "--2022-03-08 15:58:25--  https://nlp.stanford.edu/data/glove.6B.zip\n",
            "Connecting to nlp.stanford.edu (nlp.stanford.edu)|171.64.67.140|:443... connected.\n",
            "HTTP request sent, awaiting response... 301 Moved Permanently\n",
            "Location: http://downloads.cs.stanford.edu/nlp/data/glove.6B.zip [following]\n",
            "--2022-03-08 15:58:25--  http://downloads.cs.stanford.edu/nlp/data/glove.6B.zip\n",
            "Resolving downloads.cs.stanford.edu (downloads.cs.stanford.edu)... 171.64.64.22\n",
            "Connecting to downloads.cs.stanford.edu (downloads.cs.stanford.edu)|171.64.64.22|:80... connected.\n",
            "HTTP request sent, awaiting response... 200 OK\n",
            "Length: 862182613 (822M) [application/zip]\n",
            "Saving to: ‘glove.6B.zip’\n",
            "\n",
            "glove.6B.zip        100%[===================>] 822.24M  4.68MB/s    in 2m 42s  \n",
            "\n",
            "2022-03-08 16:01:07 (5.07 MB/s) - ‘glove.6B.zip’ saved [862182613/862182613]\n",
            "\n",
            "Archive:  /content/glove.6B.zip\n",
            "  inflating: glove.6B.50d.txt        \n",
            "  inflating: glove.6B.100d.txt       \n",
            "  inflating: glove.6B.200d.txt       \n",
            "  inflating: glove.6B.300d.txt       \n"
          ]
        }
      ],
      "source": [
        "!wget http://nlp.stanford.edu/data/glove.6B.zip\n",
        "!unzip '/content/glove.6B.zip'"
      ]
    },
    {
      "cell_type": "markdown",
      "metadata": {
        "id": "HGxciLK4-xOr"
      },
      "source": [
        "We freeze the weights. To create the model: "
      ]
    },
    {
      "cell_type": "code",
      "execution_count": null,
      "metadata": {
        "colab": {
          "base_uri": "https://localhost:8080/"
        },
        "id": "PZCPUM0W_Drc",
        "outputId": "2a9e9268-e9c9-45b3-9cbb-f7d6eb0d6c58"
      },
      "outputs": [
        {
          "output_type": "stream",
          "name": "stdout",
          "text": [
            "Size of Embedding:  300\n"
          ]
        }
      ],
      "source": [
        "# wordToIndex,indexToWord,wordToGlove=readGloveFile('/content/glove.6B.50d.txt')\n",
        "# wordToIndex,indexToWord,wordToGlove=readGloveFile('/content/glove.6B.100d.txt')\n",
        "wordToIndex,indexToWord,wordToGlove=readGloveFile('/content/glove.6B.300d.txt')\n",
        "\n",
        "# vocabLen = len(wordToIndex) + 1 \n",
        "\n",
        "EMBED_SIZE = next(iter(wordToGlove.values())).shape[0]\n",
        "print('Size of Embedding: ',EMBED_SIZE)\n",
        "\n",
        "embeddingLayer=createPretrainedEmbeddingLayer(wordToGlove,wordToIndex,isTrainable=False)"
      ]
    },
    {
      "cell_type": "markdown",
      "metadata": {
        "id": "vdZ4nl08vp9A"
      },
      "source": [
        "## Model 3-1: Neural bag of words using pre-trained word embeddings"
      ]
    },
    {
      "cell_type": "markdown",
      "metadata": {
        "id": "2gyCwXFj_R5w"
      },
      "source": [
        "Now we change our model to use GloVe:"
      ]
    },
    {
      "cell_type": "code",
      "execution_count": null,
      "metadata": {
        "colab": {
          "base_uri": "https://localhost:8080/"
        },
        "id": "VICS9rY8C7KH",
        "outputId": "115443f2-ae18-4653-8b42-8b8f39ec78af"
      },
      "outputs": [
        {
          "output_type": "stream",
          "name": "stdout",
          "text": [
            "Model: \"model_2\"\n",
            "_________________________________________________________________\n",
            " Layer (type)                Output Shape              Param #   \n",
            "=================================================================\n",
            " input_3 (InputLayer)        [(None, 256)]             0         \n",
            "                                                                 \n",
            " GloVe_Embeddings (Embedding  (None, 256, 300)         120000300 \n",
            " )                                                               \n",
            "                                                                 \n",
            " global_average_pooling1d_2   (None, 300)              0         \n",
            " (GlobalAveragePooling1D)                                        \n",
            "                                                                 \n",
            " dense_layer (Dense)         (None, 16)                4816      \n",
            "                                                                 \n",
            " dense_layer_output (Dense)  (None, 1)                 17        \n",
            "                                                                 \n",
            "=================================================================\n",
            "Total params: 120,005,133\n",
            "Trainable params: 4,833\n",
            "Non-trainable params: 120,000,300\n",
            "_________________________________________________________________\n"
          ]
        }
      ],
      "source": [
        "# Inspect model performance with 1 hidden layer, pre-trained embeddings\n",
        "# your code goes here\n",
        "\n",
        "# your code goes here\n",
        "from keras.models import Model\n",
        "# The input is an array of target indices e.g. [2, 45, 7, 23,...9]\n",
        "input = Input((256,), dtype='int32')\n",
        "embedding = embeddingLayer(input)\n",
        "avg_pool = GlobalAveragePooling1D()(embedding) \n",
        "\n",
        "dense_layer = tf.keras.layers.Dense(units=16, name=\"dense_layer\")(avg_pool)\n",
        "output_layer = tf.keras.layers.Dense(units=1, name=\"dense_layer_output\", activation = 'sigmoid')(dense_layer)\n",
        "\n",
        "model3 = Model(inputs=[input], outputs=[output_layer])\n",
        "model3.compile(loss='binary_crossentropy', optimizer='adam', metrics=['accuracy'])\n",
        "model3.summary()\n"
      ]
    },
    {
      "cell_type": "code",
      "execution_count": null,
      "metadata": {
        "id": "r6sj_FnOD9Sb",
        "colab": {
          "base_uri": "https://localhost:8080/"
        },
        "outputId": "8f243f4a-7706-46c1-c1d5-b696b40a1cd1"
      },
      "outputs": [
        {
          "output_type": "stream",
          "name": "stdout",
          "text": [
            "Epoch 1/40\n",
            "30/30 [==============================] - 1s 17ms/step - loss: 0.6911 - accuracy: 0.5317 - val_loss: 0.6836 - val_accuracy: 0.5833\n",
            "Epoch 2/40\n",
            "30/30 [==============================] - 0s 11ms/step - loss: 0.6790 - accuracy: 0.5907 - val_loss: 0.6757 - val_accuracy: 0.5827\n",
            "Epoch 3/40\n",
            "30/30 [==============================] - 0s 12ms/step - loss: 0.6707 - accuracy: 0.5998 - val_loss: 0.6690 - val_accuracy: 0.6030\n",
            "Epoch 4/40\n",
            "30/30 [==============================] - 0s 13ms/step - loss: 0.6629 - accuracy: 0.6120 - val_loss: 0.6611 - val_accuracy: 0.6119\n",
            "Epoch 5/40\n",
            "30/30 [==============================] - 0s 11ms/step - loss: 0.6553 - accuracy: 0.6265 - val_loss: 0.6537 - val_accuracy: 0.6266\n",
            "Epoch 6/40\n",
            "30/30 [==============================] - 0s 12ms/step - loss: 0.6477 - accuracy: 0.6405 - val_loss: 0.6468 - val_accuracy: 0.6429\n",
            "Epoch 7/40\n",
            "30/30 [==============================] - 0s 12ms/step - loss: 0.6390 - accuracy: 0.6533 - val_loss: 0.6392 - val_accuracy: 0.6535\n",
            "Epoch 8/40\n",
            "30/30 [==============================] - 0s 13ms/step - loss: 0.6317 - accuracy: 0.6595 - val_loss: 0.6346 - val_accuracy: 0.6531\n",
            "Epoch 9/40\n",
            "30/30 [==============================] - 0s 11ms/step - loss: 0.6246 - accuracy: 0.6699 - val_loss: 0.6247 - val_accuracy: 0.6665\n",
            "Epoch 10/40\n",
            "30/30 [==============================] - 0s 13ms/step - loss: 0.6171 - accuracy: 0.6733 - val_loss: 0.6187 - val_accuracy: 0.6710\n",
            "Epoch 11/40\n",
            "30/30 [==============================] - 0s 13ms/step - loss: 0.6106 - accuracy: 0.6832 - val_loss: 0.6132 - val_accuracy: 0.6768\n",
            "Epoch 12/40\n",
            "30/30 [==============================] - 0s 12ms/step - loss: 0.6054 - accuracy: 0.6868 - val_loss: 0.6089 - val_accuracy: 0.6808\n",
            "Epoch 13/40\n",
            "30/30 [==============================] - 0s 12ms/step - loss: 0.6004 - accuracy: 0.6913 - val_loss: 0.6105 - val_accuracy: 0.6724\n",
            "Epoch 14/40\n",
            "30/30 [==============================] - 0s 13ms/step - loss: 0.5963 - accuracy: 0.6921 - val_loss: 0.6002 - val_accuracy: 0.6860\n",
            "Epoch 15/40\n",
            "30/30 [==============================] - 0s 13ms/step - loss: 0.5902 - accuracy: 0.7002 - val_loss: 0.5958 - val_accuracy: 0.6897\n",
            "Epoch 16/40\n",
            "30/30 [==============================] - 0s 13ms/step - loss: 0.5865 - accuracy: 0.7004 - val_loss: 0.5925 - val_accuracy: 0.6926\n",
            "Epoch 17/40\n",
            "30/30 [==============================] - 0s 12ms/step - loss: 0.5850 - accuracy: 0.7018 - val_loss: 0.5920 - val_accuracy: 0.6902\n",
            "Epoch 18/40\n",
            "30/30 [==============================] - 0s 11ms/step - loss: 0.5823 - accuracy: 0.7018 - val_loss: 0.5866 - val_accuracy: 0.6971\n",
            "Epoch 19/40\n",
            "30/30 [==============================] - 0s 12ms/step - loss: 0.5773 - accuracy: 0.7078 - val_loss: 0.5861 - val_accuracy: 0.6947\n",
            "Epoch 20/40\n",
            "30/30 [==============================] - 0s 13ms/step - loss: 0.5749 - accuracy: 0.7097 - val_loss: 0.5838 - val_accuracy: 0.6971\n",
            "Epoch 21/40\n",
            "30/30 [==============================] - 0s 13ms/step - loss: 0.5714 - accuracy: 0.7095 - val_loss: 0.5805 - val_accuracy: 0.7050\n",
            "Epoch 22/40\n",
            "30/30 [==============================] - 0s 13ms/step - loss: 0.5695 - accuracy: 0.7139 - val_loss: 0.5787 - val_accuracy: 0.7021\n",
            "Epoch 23/40\n",
            "30/30 [==============================] - 0s 13ms/step - loss: 0.5683 - accuracy: 0.7127 - val_loss: 0.5749 - val_accuracy: 0.7051\n",
            "Epoch 24/40\n",
            "30/30 [==============================] - 0s 12ms/step - loss: 0.5642 - accuracy: 0.7176 - val_loss: 0.5729 - val_accuracy: 0.7080\n",
            "Epoch 25/40\n",
            "30/30 [==============================] - 0s 12ms/step - loss: 0.5621 - accuracy: 0.7197 - val_loss: 0.5718 - val_accuracy: 0.7098\n",
            "Epoch 26/40\n",
            "30/30 [==============================] - 0s 12ms/step - loss: 0.5620 - accuracy: 0.7192 - val_loss: 0.5696 - val_accuracy: 0.7114\n",
            "Epoch 27/40\n",
            "30/30 [==============================] - 0s 13ms/step - loss: 0.5582 - accuracy: 0.7224 - val_loss: 0.5677 - val_accuracy: 0.7127\n",
            "Epoch 28/40\n",
            "30/30 [==============================] - 0s 13ms/step - loss: 0.5575 - accuracy: 0.7235 - val_loss: 0.5694 - val_accuracy: 0.7104\n",
            "Epoch 29/40\n",
            "30/30 [==============================] - 0s 12ms/step - loss: 0.5593 - accuracy: 0.7193 - val_loss: 0.5700 - val_accuracy: 0.7101\n",
            "Epoch 30/40\n",
            "30/30 [==============================] - 0s 12ms/step - loss: 0.5547 - accuracy: 0.7257 - val_loss: 0.5645 - val_accuracy: 0.7141\n",
            "Epoch 31/40\n",
            "30/30 [==============================] - 0s 13ms/step - loss: 0.5542 - accuracy: 0.7263 - val_loss: 0.5667 - val_accuracy: 0.7126\n",
            "Epoch 32/40\n",
            "30/30 [==============================] - 0s 13ms/step - loss: 0.5512 - accuracy: 0.7276 - val_loss: 0.5624 - val_accuracy: 0.7175\n",
            "Epoch 33/40\n",
            "30/30 [==============================] - 0s 12ms/step - loss: 0.5498 - accuracy: 0.7289 - val_loss: 0.5602 - val_accuracy: 0.7183\n",
            "Epoch 34/40\n",
            "30/30 [==============================] - 0s 13ms/step - loss: 0.5487 - accuracy: 0.7310 - val_loss: 0.5588 - val_accuracy: 0.7184\n",
            "Epoch 35/40\n",
            "30/30 [==============================] - 0s 12ms/step - loss: 0.5469 - accuracy: 0.7307 - val_loss: 0.5583 - val_accuracy: 0.7205\n",
            "Epoch 36/40\n",
            "30/30 [==============================] - 0s 13ms/step - loss: 0.5473 - accuracy: 0.7289 - val_loss: 0.5572 - val_accuracy: 0.7200\n",
            "Epoch 37/40\n",
            "30/30 [==============================] - 0s 11ms/step - loss: 0.5459 - accuracy: 0.7309 - val_loss: 0.5561 - val_accuracy: 0.7219\n",
            "Epoch 38/40\n",
            "30/30 [==============================] - 0s 13ms/step - loss: 0.5447 - accuracy: 0.7313 - val_loss: 0.5545 - val_accuracy: 0.7235\n",
            "Epoch 39/40\n",
            "30/30 [==============================] - 0s 11ms/step - loss: 0.5449 - accuracy: 0.7307 - val_loss: 0.5565 - val_accuracy: 0.7210\n",
            "Epoch 40/40\n",
            "30/30 [==============================] - 0s 13ms/step - loss: 0.5416 - accuracy: 0.7333 - val_loss: 0.5528 - val_accuracy: 0.7238\n"
          ]
        }
      ],
      "source": [
        "# Train and test the model\n",
        "\n",
        "history = model3.fit(partial_X_train,\n",
        "                    partial_y_train,\n",
        "                    epochs=40,\n",
        "                    batch_size=512,\n",
        "                    validation_data=(X_val, y_val),\n",
        "                    verbose=1)"
      ]
    },
    {
      "cell_type": "code",
      "source": [
        "results = model3.evaluate(X_test_enc, y_test)"
      ],
      "metadata": {
        "colab": {
          "base_uri": "https://localhost:8080/"
        },
        "id": "mLCKJj1FmhBj",
        "outputId": "0f9739a0-56e0-49a4-e4bb-f2170de0c0c2"
      },
      "execution_count": null,
      "outputs": [
        {
          "output_type": "stream",
          "name": "stdout",
          "text": [
            "782/782 [==============================] - 2s 3ms/step - loss: 0.5546 - accuracy: 0.7188\n"
          ]
        }
      ]
    },
    {
      "cell_type": "code",
      "source": [
        "plot_history(history.history, path=\"standard.png\")\n",
        "plt.show()"
      ],
      "metadata": {
        "colab": {
          "base_uri": "https://localhost:8080/",
          "height": 384
        },
        "id": "I4QXFvyu6vcy",
        "outputId": "ea7e8ead-5779-4901-c42c-a5c08b33efac"
      },
      "execution_count": null,
      "outputs": [
        {
          "output_type": "display_data",
          "data": {
            "image/png": "[encoded data removed]",
            "text/plain": [
              "<Figure size 720x360 with 2 Axes>"
            ]
          },
          "metadata": {
            "needs_background": "light"
          }
        }
      ]
    },
    {
      "cell_type": "markdown",
      "source": [
        "After Freezing the weights\n"
      ],
      "metadata": {
        "id": "GKqOPySKr9Pc"
      }
    },
    {
      "cell_type": "code",
      "source": [
        "embeddingLayer_1=createPretrainedEmbeddingLayer(wordToGlove,wordToIndex,isTrainable=True)"
      ],
      "metadata": {
        "id": "X_-dBsk0r8pL"
      },
      "execution_count": null,
      "outputs": []
    },
    {
      "cell_type": "code",
      "source": [
        "# Inspect model performance with 1 hidden layer, pre-trained embeddings\n",
        "# your code goes here\n",
        "\n",
        "# your code goes here\n",
        "from keras.models import Model\n",
        "# The input is an array of target indices e.g. [2, 45, 7, 23,...9]\n",
        "input = Input((256,), dtype='int32')\n",
        "embedding = embeddingLayer_1(input)\n",
        "avg_pool = GlobalAveragePooling1D()(embedding) \n",
        "\n",
        "dense_layer = tf.keras.layers.Dense(units=16, name=\"dense_layer\")(avg_pool)\n",
        "output_layer = tf.keras.layers.Dense(units=1, name=\"dense_layer_output\", activation = 'sigmoid')(dense_layer)\n",
        "\n",
        "model3_2 = Model(inputs=[input], outputs=[output_layer])\n",
        "model3_2.compile(loss='binary_crossentropy', optimizer='adam', metrics=['accuracy'])\n",
        "model3_2.summary()"
      ],
      "metadata": {
        "colab": {
          "base_uri": "https://localhost:8080/"
        },
        "id": "vLLEesEasDh2",
        "outputId": "140f15be-6493-4ee8-f8b4-c9e6cac9e3ea"
      },
      "execution_count": null,
      "outputs": [
        {
          "output_type": "stream",
          "name": "stdout",
          "text": [
            "Model: \"model_3\"\n",
            "_________________________________________________________________\n",
            " Layer (type)                Output Shape              Param #   \n",
            "=================================================================\n",
            " input_4 (InputLayer)        [(None, 256)]             0         \n",
            "                                                                 \n",
            " GloVe_Embeddings (Embedding  (None, 256, 300)         120000300 \n",
            " )                                                               \n",
            "                                                                 \n",
            " global_average_pooling1d_3   (None, 300)              0         \n",
            " (GlobalAveragePooling1D)                                        \n",
            "                                                                 \n",
            " dense_layer (Dense)         (None, 16)                4816      \n",
            "                                                                 \n",
            " dense_layer_output (Dense)  (None, 1)                 17        \n",
            "                                                                 \n",
            "=================================================================\n",
            "Total params: 120,005,133\n",
            "Trainable params: 120,005,133\n",
            "Non-trainable params: 0\n",
            "_________________________________________________________________\n"
          ]
        }
      ]
    },
    {
      "cell_type": "code",
      "source": [
        "# Train and test the model\n",
        "\n",
        "history = model3_2.fit(partial_X_train,\n",
        "                    partial_y_train,\n",
        "                    epochs=40,\n",
        "                    batch_size=512,\n",
        "                    validation_data=(X_val, y_val),\n",
        "                    verbose=1)"
      ],
      "metadata": {
        "colab": {
          "base_uri": "https://localhost:8080/"
        },
        "id": "dIBJF6-IsH8_",
        "outputId": "dc17668a-77c3-4b96-9a20-08cd0cf35dc1"
      },
      "execution_count": null,
      "outputs": [
        {
          "output_type": "stream",
          "name": "stdout",
          "text": [
            "Epoch 1/40\n",
            "30/30 [==============================] - 4s 114ms/step - loss: 0.6815 - accuracy: 0.5703 - val_loss: 0.6660 - val_accuracy: 0.6302\n",
            "Epoch 2/40\n",
            "30/30 [==============================] - 3s 108ms/step - loss: 0.6444 - accuracy: 0.6673 - val_loss: 0.6226 - val_accuracy: 0.6936\n",
            "Epoch 3/40\n",
            "30/30 [==============================] - 3s 109ms/step - loss: 0.5843 - accuracy: 0.7383 - val_loss: 0.5537 - val_accuracy: 0.7644\n",
            "Epoch 4/40\n",
            "30/30 [==============================] - 3s 110ms/step - loss: 0.5001 - accuracy: 0.8009 - val_loss: 0.4729 - val_accuracy: 0.8115\n",
            "Epoch 5/40\n",
            "30/30 [==============================] - 3s 110ms/step - loss: 0.4156 - accuracy: 0.8469 - val_loss: 0.4061 - val_accuracy: 0.8419\n",
            "Epoch 6/40\n",
            "30/30 [==============================] - 3s 108ms/step - loss: 0.3500 - accuracy: 0.8707 - val_loss: 0.3625 - val_accuracy: 0.8570\n",
            "Epoch 7/40\n",
            "30/30 [==============================] - 3s 110ms/step - loss: 0.3033 - accuracy: 0.8885 - val_loss: 0.3339 - val_accuracy: 0.8684\n",
            "Epoch 8/40\n",
            "30/30 [==============================] - 3s 112ms/step - loss: 0.2669 - accuracy: 0.9049 - val_loss: 0.3158 - val_accuracy: 0.8744\n",
            "Epoch 9/40\n",
            "30/30 [==============================] - 3s 108ms/step - loss: 0.2402 - accuracy: 0.9119 - val_loss: 0.3041 - val_accuracy: 0.8778\n",
            "Epoch 10/40\n",
            "30/30 [==============================] - 3s 108ms/step - loss: 0.2151 - accuracy: 0.9223 - val_loss: 0.2970 - val_accuracy: 0.8812\n",
            "Epoch 11/40\n",
            "30/30 [==============================] - 3s 110ms/step - loss: 0.1943 - accuracy: 0.9330 - val_loss: 0.2940 - val_accuracy: 0.8811\n",
            "Epoch 12/40\n",
            "30/30 [==============================] - 3s 110ms/step - loss: 0.1770 - accuracy: 0.9411 - val_loss: 0.2909 - val_accuracy: 0.8835\n",
            "Epoch 13/40\n",
            "30/30 [==============================] - 3s 110ms/step - loss: 0.1609 - accuracy: 0.9493 - val_loss: 0.2914 - val_accuracy: 0.8833\n",
            "Epoch 14/40\n",
            "30/30 [==============================] - 3s 108ms/step - loss: 0.1477 - accuracy: 0.9532 - val_loss: 0.2919 - val_accuracy: 0.8856\n",
            "Epoch 15/40\n",
            "30/30 [==============================] - 3s 108ms/step - loss: 0.1346 - accuracy: 0.9593 - val_loss: 0.2953 - val_accuracy: 0.8854\n",
            "Epoch 16/40\n",
            "30/30 [==============================] - 3s 110ms/step - loss: 0.1238 - accuracy: 0.9637 - val_loss: 0.3018 - val_accuracy: 0.8824\n",
            "Epoch 17/40\n",
            "30/30 [==============================] - 3s 108ms/step - loss: 0.1141 - accuracy: 0.9667 - val_loss: 0.3058 - val_accuracy: 0.8829\n",
            "Epoch 18/40\n",
            "30/30 [==============================] - 3s 108ms/step - loss: 0.1049 - accuracy: 0.9704 - val_loss: 0.3140 - val_accuracy: 0.8818\n",
            "Epoch 19/40\n",
            "30/30 [==============================] - 3s 108ms/step - loss: 0.0959 - accuracy: 0.9743 - val_loss: 0.3228 - val_accuracy: 0.8789\n",
            "Epoch 20/40\n",
            "30/30 [==============================] - 3s 110ms/step - loss: 0.0875 - accuracy: 0.9771 - val_loss: 0.3293 - val_accuracy: 0.8802\n",
            "Epoch 21/40\n",
            "30/30 [==============================] - 3s 110ms/step - loss: 0.0798 - accuracy: 0.9805 - val_loss: 0.3425 - val_accuracy: 0.8776\n",
            "Epoch 22/40\n",
            "30/30 [==============================] - 3s 109ms/step - loss: 0.0736 - accuracy: 0.9823 - val_loss: 0.3493 - val_accuracy: 0.8765\n",
            "Epoch 23/40\n",
            "30/30 [==============================] - 3s 108ms/step - loss: 0.0676 - accuracy: 0.9846 - val_loss: 0.3597 - val_accuracy: 0.8752\n",
            "Epoch 24/40\n",
            "30/30 [==============================] - 3s 108ms/step - loss: 0.0619 - accuracy: 0.9869 - val_loss: 0.3765 - val_accuracy: 0.8716\n",
            "Epoch 25/40\n",
            "30/30 [==============================] - 3s 110ms/step - loss: 0.0570 - accuracy: 0.9884 - val_loss: 0.3844 - val_accuracy: 0.8748\n",
            "Epoch 26/40\n",
            "30/30 [==============================] - 3s 108ms/step - loss: 0.0519 - accuracy: 0.9900 - val_loss: 0.3951 - val_accuracy: 0.8735\n",
            "Epoch 27/40\n",
            "30/30 [==============================] - 3s 110ms/step - loss: 0.0472 - accuracy: 0.9918 - val_loss: 0.4102 - val_accuracy: 0.8716\n",
            "Epoch 28/40\n",
            "30/30 [==============================] - 3s 108ms/step - loss: 0.0451 - accuracy: 0.9915 - val_loss: 0.4234 - val_accuracy: 0.8716\n",
            "Epoch 29/40\n",
            "30/30 [==============================] - 3s 110ms/step - loss: 0.0399 - accuracy: 0.9939 - val_loss: 0.4318 - val_accuracy: 0.8700\n",
            "Epoch 30/40\n",
            "30/30 [==============================] - 3s 108ms/step - loss: 0.0368 - accuracy: 0.9945 - val_loss: 0.4478 - val_accuracy: 0.8689\n",
            "Epoch 31/40\n",
            "30/30 [==============================] - 3s 108ms/step - loss: 0.0333 - accuracy: 0.9954 - val_loss: 0.4580 - val_accuracy: 0.8683\n",
            "Epoch 32/40\n",
            "30/30 [==============================] - 3s 109ms/step - loss: 0.0308 - accuracy: 0.9958 - val_loss: 0.4772 - val_accuracy: 0.8661\n",
            "Epoch 33/40\n",
            "30/30 [==============================] - 3s 108ms/step - loss: 0.0280 - accuracy: 0.9963 - val_loss: 0.4836 - val_accuracy: 0.8666\n",
            "Epoch 34/40\n",
            "30/30 [==============================] - 3s 109ms/step - loss: 0.0258 - accuracy: 0.9969 - val_loss: 0.4982 - val_accuracy: 0.8662\n",
            "Epoch 35/40\n",
            "30/30 [==============================] - 3s 110ms/step - loss: 0.0238 - accuracy: 0.9973 - val_loss: 0.5109 - val_accuracy: 0.8661\n",
            "Epoch 36/40\n",
            "30/30 [==============================] - 3s 111ms/step - loss: 0.0223 - accuracy: 0.9975 - val_loss: 0.5224 - val_accuracy: 0.8647\n",
            "Epoch 37/40\n",
            "30/30 [==============================] - 3s 108ms/step - loss: 0.0197 - accuracy: 0.9983 - val_loss: 0.5367 - val_accuracy: 0.8642\n",
            "Epoch 38/40\n",
            "30/30 [==============================] - 3s 108ms/step - loss: 0.0183 - accuracy: 0.9983 - val_loss: 0.5488 - val_accuracy: 0.8649\n",
            "Epoch 39/40\n",
            "30/30 [==============================] - 3s 108ms/step - loss: 0.0165 - accuracy: 0.9987 - val_loss: 0.5605 - val_accuracy: 0.8633\n",
            "Epoch 40/40\n",
            "30/30 [==============================] - 3s 108ms/step - loss: 0.0151 - accuracy: 0.9991 - val_loss: 0.5728 - val_accuracy: 0.8638\n"
          ]
        }
      ]
    },
    {
      "cell_type": "code",
      "source": [
        "results = model3_2.evaluate(X_test_enc, y_test)"
      ],
      "metadata": {
        "colab": {
          "base_uri": "https://localhost:8080/"
        },
        "id": "-y1uZWLlsM_r",
        "outputId": "c704dfae-92df-49a4-cc1d-2b9bd996004b"
      },
      "execution_count": null,
      "outputs": [
        {
          "output_type": "stream",
          "name": "stdout",
          "text": [
            "782/782 [==============================] - 2s 3ms/step - loss: 0.6096 - accuracy: 0.8522\n"
          ]
        }
      ]
    },
    {
      "cell_type": "code",
      "source": [
        "plot_history(history.history, path=\"standard.png\")\n",
        "plt.show()"
      ],
      "metadata": {
        "colab": {
          "base_uri": "https://localhost:8080/",
          "height": 384
        },
        "id": "Q3tjwGnL61vy",
        "outputId": "60c7d61a-ad61-4088-af5e-3801e250a71d"
      },
      "execution_count": null,
      "outputs": [
        {
          "output_type": "display_data",
          "data": {
            "image/png": "[encoded data removed]",
            "text/plain": [
              "<Figure size 720x360 with 2 Axes>"
            ]
          },
          "metadata": {
            "needs_background": "light"
          }
        }
      ]
    },
    {
      "cell_type": "markdown",
      "metadata": {
        "id": "wxJhlT3whoDE"
      },
      "source": [
        "To compare freezing and fine-tuning the pre-train embedding weights, we fine-tune the weights here:"
      ]
    },
    {
      "cell_type": "markdown",
      "metadata": {
        "id": "cAdOh2IHnKuT"
      },
      "source": [
        "Experiments here show that fine-tuning the pre-trained embeddings would obtain better accuracy.\n",
        "\n",
        "Note that although fine-tuning the pre-trained embeddings is better here, we do not fine-tune it in other models. You could conduct extra experiments to compare the results."
      ]
    },
    {
      "cell_type": "markdown",
      "metadata": {
        "id": "xZ1KWFKvcagS"
      },
      "source": [
        "##  Model 3-2: LSTM with pre-trained word embeddings"
      ]
    },
    {
      "cell_type": "markdown",
      "metadata": {
        "id": "S1lKisy3kb60"
      },
      "source": [
        "In previous labs, we have conducted an experiment based on LSTM. Now, we replace its embeddings with the GloVe pre-trained embeddings."
      ]
    },
    {
      "cell_type": "code",
      "execution_count": null,
      "metadata": {
        "colab": {
          "base_uri": "https://localhost:8080/"
        },
        "id": "oz92rv2iTbo8",
        "outputId": "58c95f43-e478-4cd9-b61c-60420f369aef"
      },
      "outputs": [
        {
          "output_type": "stream",
          "name": "stdout",
          "text": [
            "Model: \"model_4\"\n",
            "_________________________________________________________________\n",
            " Layer (type)                Output Shape              Param #   \n",
            "=================================================================\n",
            " input_5 (InputLayer)        [(None, 256)]             0         \n",
            "                                                                 \n",
            " GloVe_Embeddings (Embedding  (None, 256, 300)         120000300 \n",
            " )                                                               \n",
            "                                                                 \n",
            " lstm (LSTM)                 (None, 100)               160400    \n",
            "                                                                 \n",
            " dense_layer_output (Dense)  (None, 1)                 101       \n",
            "                                                                 \n",
            "=================================================================\n",
            "Total params: 120,160,801\n",
            "Trainable params: 160,501\n",
            "Non-trainable params: 120,000,300\n",
            "_________________________________________________________________\n"
          ]
        }
      ],
      "source": [
        "# your code goes here\n",
        "from keras.models import Model\n",
        "# The input is an array of target indices e.g. [2, 45, 7, 23,...9]\n",
        "input = Input((256,), dtype='int32')\n",
        "embedding = embeddingLayer(input)\n",
        "lstm = tf.keras.layers.LSTM(100)(embedding)\n",
        "\n",
        "output_layer = tf.keras.layers.Dense(units=1, name=\"dense_layer_output\", activation = 'sigmoid')(lstm)\n",
        "\n",
        "model7 = Model(inputs=[input], outputs=[output_layer])\n",
        "model7.compile(loss='binary_crossentropy', optimizer='adam', metrics=['accuracy'])\n",
        "model7.summary()\n"
      ]
    },
    {
      "cell_type": "code",
      "source": [
        "# Train and test the model\n",
        "\n",
        "history = model7.fit(partial_X_train,\n",
        "                    partial_y_train,\n",
        "                    epochs=40,\n",
        "                    batch_size=512,\n",
        "                    validation_data=(X_val, y_val),\n",
        "                    verbose=1)"
      ],
      "metadata": {
        "colab": {
          "base_uri": "https://localhost:8080/"
        },
        "id": "bY75eNHxqof7",
        "outputId": "bb294c4d-485c-40f9-93c2-b71575e4b5c3"
      },
      "execution_count": null,
      "outputs": [
        {
          "output_type": "stream",
          "name": "stdout",
          "text": [
            "Epoch 1/40\n",
            "30/30 [==============================] - 10s 189ms/step - loss: 0.6909 - accuracy: 0.5151 - val_loss: 0.6847 - val_accuracy: 0.5290\n",
            "Epoch 2/40\n",
            "30/30 [==============================] - 5s 166ms/step - loss: 0.6667 - accuracy: 0.5763 - val_loss: 0.6332 - val_accuracy: 0.6491\n",
            "Epoch 3/40\n",
            "30/30 [==============================] - 5s 168ms/step - loss: 0.6342 - accuracy: 0.6552 - val_loss: 0.6207 - val_accuracy: 0.6703\n",
            "Epoch 4/40\n",
            "30/30 [==============================] - 5s 173ms/step - loss: 0.6226 - accuracy: 0.6736 - val_loss: 0.6213 - val_accuracy: 0.6716\n",
            "Epoch 5/40\n",
            "30/30 [==============================] - 5s 167ms/step - loss: 0.6314 - accuracy: 0.6600 - val_loss: 0.6742 - val_accuracy: 0.6165\n",
            "Epoch 6/40\n",
            "30/30 [==============================] - 5s 166ms/step - loss: 0.6425 - accuracy: 0.6436 - val_loss: 0.6281 - val_accuracy: 0.6669\n",
            "Epoch 7/40\n",
            "30/30 [==============================] - 5s 167ms/step - loss: 0.6174 - accuracy: 0.6720 - val_loss: 0.6311 - val_accuracy: 0.6639\n",
            "Epoch 8/40\n",
            "30/30 [==============================] - 5s 168ms/step - loss: 0.6517 - accuracy: 0.6041 - val_loss: 0.6378 - val_accuracy: 0.6203\n",
            "Epoch 9/40\n",
            "30/30 [==============================] - 5s 167ms/step - loss: 0.6839 - accuracy: 0.5754 - val_loss: 0.6817 - val_accuracy: 0.5508\n",
            "Epoch 10/40\n",
            "30/30 [==============================] - 5s 168ms/step - loss: 0.6651 - accuracy: 0.5839 - val_loss: 0.6761 - val_accuracy: 0.5520\n",
            "Epoch 11/40\n",
            "30/30 [==============================] - 5s 169ms/step - loss: 0.6581 - accuracy: 0.5888 - val_loss: 0.6742 - val_accuracy: 0.5527\n",
            "Epoch 12/40\n",
            "30/30 [==============================] - 5s 167ms/step - loss: 0.6512 - accuracy: 0.5965 - val_loss: 0.6699 - val_accuracy: 0.5651\n",
            "Epoch 13/40\n",
            "30/30 [==============================] - 5s 168ms/step - loss: 0.6449 - accuracy: 0.6001 - val_loss: 0.6837 - val_accuracy: 0.5347\n",
            "Epoch 14/40\n",
            "30/30 [==============================] - 5s 167ms/step - loss: 0.6434 - accuracy: 0.6043 - val_loss: 0.6679 - val_accuracy: 0.5734\n",
            "Epoch 15/40\n",
            "30/30 [==============================] - 5s 167ms/step - loss: 0.6348 - accuracy: 0.6124 - val_loss: 0.6666 - val_accuracy: 0.5633\n",
            "Epoch 16/40\n",
            "30/30 [==============================] - 5s 167ms/step - loss: 0.6213 - accuracy: 0.6223 - val_loss: 0.6355 - val_accuracy: 0.6486\n",
            "Epoch 17/40\n",
            "30/30 [==============================] - 5s 167ms/step - loss: 0.6014 - accuracy: 0.6819 - val_loss: 0.6322 - val_accuracy: 0.6641\n",
            "Epoch 18/40\n",
            "30/30 [==============================] - 5s 167ms/step - loss: 0.6517 - accuracy: 0.5789 - val_loss: 0.6721 - val_accuracy: 0.5357\n",
            "Epoch 19/40\n",
            "30/30 [==============================] - 5s 167ms/step - loss: 0.6348 - accuracy: 0.5915 - val_loss: 0.6635 - val_accuracy: 0.5506\n",
            "Epoch 20/40\n",
            "30/30 [==============================] - 5s 167ms/step - loss: 0.6183 - accuracy: 0.6016 - val_loss: 0.6473 - val_accuracy: 0.5756\n",
            "Epoch 21/40\n",
            "30/30 [==============================] - 5s 167ms/step - loss: 0.6112 - accuracy: 0.6074 - val_loss: 0.6459 - val_accuracy: 0.5759\n",
            "Epoch 22/40\n",
            "30/30 [==============================] - 5s 169ms/step - loss: 0.6084 - accuracy: 0.6235 - val_loss: 0.6672 - val_accuracy: 0.5562\n",
            "Epoch 23/40\n",
            "30/30 [==============================] - 5s 166ms/step - loss: 0.6242 - accuracy: 0.6002 - val_loss: 0.6602 - val_accuracy: 0.5643\n",
            "Epoch 24/40\n",
            "30/30 [==============================] - 5s 166ms/step - loss: 0.5801 - accuracy: 0.6805 - val_loss: 0.7285 - val_accuracy: 0.5775\n",
            "Epoch 25/40\n",
            "30/30 [==============================] - 5s 167ms/step - loss: 0.6226 - accuracy: 0.6044 - val_loss: 0.6714 - val_accuracy: 0.5451\n",
            "Epoch 26/40\n",
            "30/30 [==============================] - 5s 167ms/step - loss: 0.5714 - accuracy: 0.6865 - val_loss: 0.6891 - val_accuracy: 0.5772\n",
            "Epoch 27/40\n",
            "30/30 [==============================] - 5s 167ms/step - loss: 0.5582 - accuracy: 0.7197 - val_loss: 0.6485 - val_accuracy: 0.6791\n",
            "Epoch 28/40\n",
            "30/30 [==============================] - 5s 166ms/step - loss: 0.6447 - accuracy: 0.5863 - val_loss: 0.6804 - val_accuracy: 0.5368\n",
            "Epoch 29/40\n",
            "30/30 [==============================] - 5s 167ms/step - loss: 0.6166 - accuracy: 0.5930 - val_loss: 0.6781 - val_accuracy: 0.5412\n",
            "Epoch 30/40\n",
            "30/30 [==============================] - 5s 167ms/step - loss: 0.6029 - accuracy: 0.6095 - val_loss: 0.6797 - val_accuracy: 0.5403\n",
            "Epoch 31/40\n",
            "30/30 [==============================] - 5s 167ms/step - loss: 0.5889 - accuracy: 0.6197 - val_loss: 0.6721 - val_accuracy: 0.5584\n",
            "Epoch 32/40\n",
            "30/30 [==============================] - 5s 169ms/step - loss: 0.5769 - accuracy: 0.6274 - val_loss: 0.6683 - val_accuracy: 0.5604\n",
            "Epoch 33/40\n",
            "30/30 [==============================] - 5s 166ms/step - loss: 0.5730 - accuracy: 0.6478 - val_loss: 0.6837 - val_accuracy: 0.5457\n",
            "Epoch 34/40\n",
            "30/30 [==============================] - 5s 166ms/step - loss: 0.5795 - accuracy: 0.6197 - val_loss: 0.6751 - val_accuracy: 0.5546\n",
            "Epoch 35/40\n",
            "30/30 [==============================] - 5s 166ms/step - loss: 0.5534 - accuracy: 0.6447 - val_loss: 0.6642 - val_accuracy: 0.6243\n",
            "Epoch 36/40\n",
            "30/30 [==============================] - 5s 166ms/step - loss: 0.5290 - accuracy: 0.7326 - val_loss: 0.6554 - val_accuracy: 0.6863\n",
            "Epoch 37/40\n",
            "30/30 [==============================] - 5s 167ms/step - loss: 0.5848 - accuracy: 0.6828 - val_loss: 0.6863 - val_accuracy: 0.5270\n",
            "Epoch 38/40\n",
            "30/30 [==============================] - 5s 167ms/step - loss: 0.6422 - accuracy: 0.5823 - val_loss: 0.6807 - val_accuracy: 0.5306\n",
            "Epoch 39/40\n",
            "30/30 [==============================] - 5s 166ms/step - loss: 0.6198 - accuracy: 0.5990 - val_loss: 0.6847 - val_accuracy: 0.5332\n",
            "Epoch 40/40\n",
            "30/30 [==============================] - 5s 166ms/step - loss: 0.6044 - accuracy: 0.6089 - val_loss: 0.6884 - val_accuracy: 0.5369\n"
          ]
        }
      ]
    },
    {
      "cell_type": "code",
      "execution_count": null,
      "metadata": {
        "id": "EqyL_rhaUElx",
        "colab": {
          "base_uri": "https://localhost:8080/"
        },
        "outputId": "b1dfe14f-f10c-4b2b-f387-ecd9c89e0e08"
      },
      "outputs": [
        {
          "output_type": "stream",
          "name": "stdout",
          "text": [
            "782/782 [==============================] - 16s 21ms/step - loss: 0.6896 - accuracy: 0.5346\n"
          ]
        }
      ],
      "source": [
        "# Train and test the model\n",
        "\n",
        "results = model7.evaluate(X_test_enc, y_test)"
      ]
    },
    {
      "cell_type": "code",
      "source": [
        "plot_history(history.history, path=\"standard.png\")\n",
        "plt.show()"
      ],
      "metadata": {
        "colab": {
          "base_uri": "https://localhost:8080/",
          "height": 384
        },
        "id": "M1f4knmg-O5U",
        "outputId": "b17646af-9cd1-490c-dd51-cab0499726e8"
      },
      "execution_count": null,
      "outputs": [
        {
          "output_type": "display_data",
          "data": {
            "image/png": "[encoded data removed]",
            "text/plain": [
              "<Figure size 720x360 with 2 Axes>"
            ]
          },
          "metadata": {
            "needs_background": "light"
          }
        }
      ]
    },
    {
      "cell_type": "markdown",
      "metadata": {
        "id": "XOqePi5-I1Xq"
      },
      "source": [
        "Experiment show that simply replacing the lab 2 model embeddings with pre-trained word embeddings (GloVe) will cause performance to drop significantly. \n",
        "What can you do to improve the situation?"
      ]
    },
    {
      "cell_type": "markdown",
      "source": [
        "To improve the model performace we will set the trainable parameter in the embedding layer to true instead of false. By this we enable our model to train rather than use the pre-trained word embeddings."
      ],
      "metadata": {
        "id": "beclId_uOjo0"
      }
    },
    {
      "cell_type": "code",
      "execution_count": null,
      "metadata": {
        "colab": {
          "base_uri": "https://localhost:8080/"
        },
        "outputId": "61e073b2-1386-4e0d-fb59-cf49ff4a7cfb",
        "id": "7iVCyvLEPhwd"
      },
      "outputs": [
        {
          "output_type": "stream",
          "name": "stdout",
          "text": [
            "Model: \"model\"\n",
            "_________________________________________________________________\n",
            " Layer (type)                Output Shape              Param #   \n",
            "=================================================================\n",
            " input_3 (InputLayer)        [(None, 256)]             0         \n",
            "                                                                 \n",
            " GloVe_Embeddings (Embedding  (None, 256, 300)         120000300 \n",
            " )                                                               \n",
            "                                                                 \n",
            " lstm (LSTM)                 (None, 100)               160400    \n",
            "                                                                 \n",
            " dense_layer_output (Dense)  (None, 1)                 101       \n",
            "                                                                 \n",
            "=================================================================\n",
            "Total params: 120,160,801\n",
            "Trainable params: 120,160,801\n",
            "Non-trainable params: 0\n",
            "_________________________________________________________________\n"
          ]
        }
      ],
      "source": [
        "# your code goes here\n",
        "from keras.models import Model\n",
        "import tensorflow as tf\n",
        "# The input is an array of target indices e.g. [2, 45, 7, 23,...9]\n",
        "input = Input((256,), dtype='int32')\n",
        "embedding = embeddingLayer_1(input)\n",
        "lstm = tf.keras.layers.LSTM(100)(embedding)\n",
        "\n",
        "output_layer = tf.keras.layers.Dense(units=1, name=\"dense_layer_output\", activation = 'sigmoid')(lstm)\n",
        "\n",
        "model71 = Model(inputs=[input], outputs=[output_layer])\n",
        "model71.compile(loss='binary_crossentropy', optimizer='adam', metrics=['accuracy'])\n",
        "model71.summary()\n"
      ]
    },
    {
      "cell_type": "code",
      "source": [
        "history = model71.fit(partial_X_train,\n",
        "                    partial_y_train,\n",
        "                    epochs=40,\n",
        "                    batch_size=512,\n",
        "                    validation_data=(X_val, y_val),\n",
        "                    verbose=1)"
      ],
      "metadata": {
        "colab": {
          "base_uri": "https://localhost:8080/"
        },
        "id": "dHfPo-f4Rlwl",
        "outputId": "7405a04d-eb6c-4f8a-d646-287fe9f69b9e"
      },
      "execution_count": null,
      "outputs": [
        {
          "output_type": "stream",
          "name": "stdout",
          "text": [
            "Epoch 1/40\n",
            "30/30 [==============================] - 18s 379ms/step - loss: 0.6882 - accuracy: 0.5189 - val_loss: 0.6799 - val_accuracy: 0.5425\n",
            "Epoch 2/40\n",
            "30/30 [==============================] - 11s 361ms/step - loss: 0.6531 - accuracy: 0.5950 - val_loss: 0.6457 - val_accuracy: 0.6044\n",
            "Epoch 3/40\n",
            "30/30 [==============================] - 11s 361ms/step - loss: 0.5947 - accuracy: 0.6984 - val_loss: 0.5264 - val_accuracy: 0.7654\n",
            "Epoch 4/40\n",
            "30/30 [==============================] - 11s 361ms/step - loss: 0.7294 - accuracy: 0.5527 - val_loss: 0.6786 - val_accuracy: 0.5333\n",
            "Epoch 5/40\n",
            "30/30 [==============================] - 11s 364ms/step - loss: 0.6576 - accuracy: 0.5779 - val_loss: 0.6691 - val_accuracy: 0.5493\n",
            "Epoch 6/40\n",
            "30/30 [==============================] - 11s 363ms/step - loss: 0.6345 - accuracy: 0.5992 - val_loss: 0.6511 - val_accuracy: 0.5720\n",
            "Epoch 7/40\n",
            "30/30 [==============================] - 11s 366ms/step - loss: 0.5784 - accuracy: 0.6843 - val_loss: 0.6118 - val_accuracy: 0.6726\n",
            "Epoch 8/40\n",
            "30/30 [==============================] - 11s 365ms/step - loss: 0.5857 - accuracy: 0.6891 - val_loss: 0.6514 - val_accuracy: 0.6047\n",
            "Epoch 9/40\n",
            "30/30 [==============================] - 11s 363ms/step - loss: 0.6224 - accuracy: 0.6733 - val_loss: 0.6690 - val_accuracy: 0.5542\n",
            "Epoch 10/40\n",
            "30/30 [==============================] - 11s 362ms/step - loss: 0.6154 - accuracy: 0.5829 - val_loss: 0.6625 - val_accuracy: 0.5597\n",
            "Epoch 11/40\n",
            "30/30 [==============================] - 11s 362ms/step - loss: 0.5856 - accuracy: 0.6398 - val_loss: 0.6081 - val_accuracy: 0.7314\n",
            "Epoch 12/40\n",
            "30/30 [==============================] - 11s 364ms/step - loss: 0.5133 - accuracy: 0.7639 - val_loss: 0.7019 - val_accuracy: 0.5901\n",
            "Epoch 13/40\n",
            "30/30 [==============================] - 11s 362ms/step - loss: 0.5265 - accuracy: 0.7337 - val_loss: 0.5927 - val_accuracy: 0.7305\n",
            "Epoch 14/40\n",
            "30/30 [==============================] - 11s 362ms/step - loss: 0.4487 - accuracy: 0.8093 - val_loss: 0.5362 - val_accuracy: 0.7696\n",
            "Epoch 15/40\n",
            "30/30 [==============================] - 11s 363ms/step - loss: 0.4828 - accuracy: 0.7897 - val_loss: 0.5878 - val_accuracy: 0.7224\n",
            "Epoch 16/40\n",
            "30/30 [==============================] - 11s 363ms/step - loss: 0.4894 - accuracy: 0.7877 - val_loss: 0.7472 - val_accuracy: 0.5713\n",
            "Epoch 17/40\n",
            "30/30 [==============================] - 11s 364ms/step - loss: 0.5900 - accuracy: 0.6519 - val_loss: 0.6418 - val_accuracy: 0.6372\n",
            "Epoch 18/40\n",
            "30/30 [==============================] - 11s 364ms/step - loss: 0.5019 - accuracy: 0.7607 - val_loss: 0.6152 - val_accuracy: 0.7337\n",
            "Epoch 19/40\n",
            "30/30 [==============================] - 11s 363ms/step - loss: 0.4308 - accuracy: 0.8199 - val_loss: 0.5392 - val_accuracy: 0.7812\n",
            "Epoch 20/40\n",
            "30/30 [==============================] - 11s 363ms/step - loss: 0.4026 - accuracy: 0.8379 - val_loss: 0.5610 - val_accuracy: 0.7603\n",
            "Epoch 21/40\n",
            "30/30 [==============================] - 11s 362ms/step - loss: 0.4070 - accuracy: 0.8352 - val_loss: 0.5330 - val_accuracy: 0.7904\n",
            "Epoch 22/40\n",
            "30/30 [==============================] - 11s 363ms/step - loss: 0.3724 - accuracy: 0.8553 - val_loss: 0.5686 - val_accuracy: 0.7550\n",
            "Epoch 23/40\n",
            "30/30 [==============================] - 12s 407ms/step - loss: 0.5818 - accuracy: 0.6873 - val_loss: 0.6430 - val_accuracy: 0.7006\n",
            "Epoch 24/40\n",
            "30/30 [==============================] - 11s 364ms/step - loss: 0.4727 - accuracy: 0.7837 - val_loss: 0.6019 - val_accuracy: 0.7048\n",
            "Epoch 25/40\n",
            "30/30 [==============================] - 11s 363ms/step - loss: 0.4354 - accuracy: 0.8037 - val_loss: 0.5818 - val_accuracy: 0.7438\n",
            "Epoch 26/40\n",
            "30/30 [==============================] - 11s 364ms/step - loss: 0.3963 - accuracy: 0.8386 - val_loss: 0.5670 - val_accuracy: 0.7735\n",
            "Epoch 27/40\n",
            "30/30 [==============================] - 11s 362ms/step - loss: 0.3680 - accuracy: 0.8557 - val_loss: 0.5607 - val_accuracy: 0.7810\n",
            "Epoch 28/40\n",
            "30/30 [==============================] - 11s 362ms/step - loss: 0.7076 - accuracy: 0.6480 - val_loss: 0.7128 - val_accuracy: 0.5446\n",
            "Epoch 29/40\n",
            "30/30 [==============================] - 12s 407ms/step - loss: 0.5985 - accuracy: 0.6193 - val_loss: 0.6646 - val_accuracy: 0.5599\n",
            "Epoch 30/40\n",
            "30/30 [==============================] - 11s 364ms/step - loss: 0.5435 - accuracy: 0.6433 - val_loss: 0.6504 - val_accuracy: 0.5813\n",
            "Epoch 31/40\n",
            "30/30 [==============================] - 11s 362ms/step - loss: 0.4967 - accuracy: 0.6945 - val_loss: 0.5979 - val_accuracy: 0.6209\n",
            "Epoch 32/40\n",
            "30/30 [==============================] - 11s 365ms/step - loss: 0.4048 - accuracy: 0.7995 - val_loss: 0.5111 - val_accuracy: 0.8020\n",
            "Epoch 33/40\n",
            "30/30 [==============================] - 11s 365ms/step - loss: 0.3446 - accuracy: 0.8664 - val_loss: 0.4836 - val_accuracy: 0.8133\n",
            "Epoch 34/40\n",
            "30/30 [==============================] - 11s 363ms/step - loss: 0.3422 - accuracy: 0.8675 - val_loss: 0.5882 - val_accuracy: 0.7696\n",
            "Epoch 35/40\n",
            "30/30 [==============================] - 11s 364ms/step - loss: 0.3425 - accuracy: 0.8685 - val_loss: 0.5224 - val_accuracy: 0.7925\n",
            "Epoch 36/40\n",
            "30/30 [==============================] - 11s 364ms/step - loss: 0.3289 - accuracy: 0.8721 - val_loss: 0.5324 - val_accuracy: 0.8091\n",
            "Epoch 37/40\n",
            "30/30 [==============================] - 11s 363ms/step - loss: 0.3181 - accuracy: 0.8826 - val_loss: 0.5355 - val_accuracy: 0.8095\n",
            "Epoch 38/40\n",
            "30/30 [==============================] - 11s 364ms/step - loss: 0.3150 - accuracy: 0.8865 - val_loss: 0.5289 - val_accuracy: 0.8128\n",
            "Epoch 39/40\n",
            "30/30 [==============================] - 11s 365ms/step - loss: 0.2975 - accuracy: 0.8915 - val_loss: 0.5020 - val_accuracy: 0.8182\n",
            "Epoch 40/40\n",
            "30/30 [==============================] - 11s 364ms/step - loss: 0.3109 - accuracy: 0.8803 - val_loss: 0.6385 - val_accuracy: 0.7975\n"
          ]
        }
      ]
    },
    {
      "cell_type": "code",
      "source": [
        "results = model71.evaluate(X_test_enc, y_test)"
      ],
      "metadata": {
        "colab": {
          "base_uri": "https://localhost:8080/"
        },
        "id": "H-H7L9HBRrz0",
        "outputId": "ff21095e-5fb9-4a1c-8eb9-57b0ebcfd28f"
      },
      "execution_count": null,
      "outputs": [
        {
          "output_type": "stream",
          "name": "stdout",
          "text": [
            "782/782 [==============================] - 17s 21ms/step - loss: 0.6522 - accuracy: 0.7903\n"
          ]
        }
      ]
    },
    {
      "cell_type": "markdown",
      "source": [
        "It is clearly evident that after setting the trainable parameter = True, the model validation accuracy has increased by a significant amount. The accuracy previously using the pre-trained glove word embeddings was 53.46% which increased to 79.03% just like the model 3-1."
      ],
      "metadata": {
        "id": "gfgQjTgfW6a0"
      }
    },
    {
      "cell_type": "code",
      "source": [
        "plot_history(history.history, path=\"standard.png\")\n",
        "plt.show()"
      ],
      "metadata": {
        "colab": {
          "base_uri": "https://localhost:8080/",
          "height": 384
        },
        "id": "UEv4DqhhRwBL",
        "outputId": "446aa7ef-f81d-41a9-b25a-f0531be6bc6e"
      },
      "execution_count": null,
      "outputs": [
        {
          "output_type": "display_data",
          "data": {
            "image/png": "[encoded data removed]",
            "text/plain": [
              "<Figure size 720x360 with 2 Axes>"
            ]
          },
          "metadata": {
            "needs_background": "light"
          }
        }
      ]
    },
    {
      "cell_type": "markdown",
      "metadata": {
        "id": "M-bZ5SCHiIMl"
      },
      "source": [
        "#  Model 4: Adding extra dense layer into Neural averaging network model"
      ]
    },
    {
      "cell_type": "markdown",
      "metadata": {
        "id": "G85QM3lSV7qp"
      },
      "source": [
        "We add extra dense layers into model 3-1 (neural network model) to evaluate extra dense layers' contribution. We start by adding one layer, then add two. All parameters are the same as model 3-1."
      ]
    },
    {
      "cell_type": "markdown",
      "metadata": {
        "id": "ExgX8bxpVgps"
      },
      "source": [
        "### Adding one extra dense layer"
      ]
    },
    {
      "cell_type": "code",
      "execution_count": null,
      "metadata": {
        "colab": {
          "base_uri": "https://localhost:8080/"
        },
        "id": "dTgD_gMzXa1z",
        "outputId": "a073feb9-7106-40d1-a5f4-975f82534ac1"
      },
      "outputs": [
        {
          "output_type": "stream",
          "name": "stdout",
          "text": [
            "Model: \"model_4\"\n",
            "_________________________________________________________________\n",
            " Layer (type)                Output Shape              Param #   \n",
            "=================================================================\n",
            " input_7 (InputLayer)        [(None, 256)]             0         \n",
            "                                                                 \n",
            " GloVe_Embeddings (Embedding  (None, 256, 300)         120000300 \n",
            " )                                                               \n",
            "                                                                 \n",
            " global_average_pooling1d_2   (None, 300)              0         \n",
            " (GlobalAveragePooling1D)                                        \n",
            "                                                                 \n",
            " extra_dense_layer (Dense)   (None, 100)               30100     \n",
            "                                                                 \n",
            " dense_layer (Dense)         (None, 16)                1616      \n",
            "                                                                 \n",
            " dense_layer_output (Dense)  (None, 1)                 17        \n",
            "                                                                 \n",
            "=================================================================\n",
            "Total params: 120,032,033\n",
            "Trainable params: 31,733\n",
            "Non-trainable params: 120,000,300\n",
            "_________________________________________________________________\n"
          ]
        }
      ],
      "source": [
        "# Inspect model performance with 1 hidden layer, pre-trained embeddings\n",
        "# your code goes here\n",
        "\n",
        "from keras.models import Model\n",
        "# The input is an array of target indices e.g. [2, 45, 7, 23,...9]\n",
        "input = Input((256,), dtype='int32')\n",
        "embedding = embeddingLayer(input)\n",
        "avg_pool = GlobalAveragePooling1D()(embedding) \n",
        "extra_dense = tf.keras.layers.Dense(units=100, name=\"extra_dense_layer\")(avg_pool)\n",
        "dense_layer = tf.keras.layers.Dense(units=16, name=\"dense_layer\")(extra_dense)\n",
        "output_layer = tf.keras.layers.Dense(units=1, name=\"dense_layer_output\", activation = 'sigmoid')(dense_layer)\n",
        "\n",
        "model4 = Model(inputs=[input], outputs=[output_layer])\n",
        "model4.compile(loss='binary_crossentropy', optimizer='adam', metrics=['accuracy'])\n",
        "model4.summary()\n"
      ]
    },
    {
      "cell_type": "code",
      "source": [
        "# Train and test the model\n",
        "\n",
        "history = model4.fit(partial_X_train,\n",
        "                    partial_y_train,\n",
        "                    epochs=40,\n",
        "                    batch_size=512,\n",
        "                    validation_data=(X_val, y_val),\n",
        "                    verbose=1)"
      ],
      "metadata": {
        "colab": {
          "base_uri": "https://localhost:8080/"
        },
        "id": "aDM0LSgjroNL",
        "outputId": "00fa2984-8759-494c-c957-49f29fc40fd9"
      },
      "execution_count": null,
      "outputs": [
        {
          "output_type": "stream",
          "name": "stdout",
          "text": [
            "Epoch 1/40\n",
            "30/30 [==============================] - 1s 20ms/step - loss: 0.6800 - accuracy: 0.5673 - val_loss: 0.6735 - val_accuracy: 0.5752\n",
            "Epoch 2/40\n",
            "30/30 [==============================] - 0s 13ms/step - loss: 0.6622 - accuracy: 0.6066 - val_loss: 0.6614 - val_accuracy: 0.6017\n",
            "Epoch 3/40\n",
            "30/30 [==============================] - 0s 13ms/step - loss: 0.6387 - accuracy: 0.6520 - val_loss: 0.6309 - val_accuracy: 0.6536\n",
            "Epoch 4/40\n",
            "30/30 [==============================] - 0s 13ms/step - loss: 0.6137 - accuracy: 0.6764 - val_loss: 0.6077 - val_accuracy: 0.6759\n",
            "Epoch 5/40\n",
            "30/30 [==============================] - 0s 13ms/step - loss: 0.5909 - accuracy: 0.6935 - val_loss: 0.6115 - val_accuracy: 0.6686\n",
            "Epoch 6/40\n",
            "30/30 [==============================] - 0s 14ms/step - loss: 0.5887 - accuracy: 0.6911 - val_loss: 0.5833 - val_accuracy: 0.6987\n",
            "Epoch 7/40\n",
            "30/30 [==============================] - 0s 13ms/step - loss: 0.5684 - accuracy: 0.7118 - val_loss: 0.5760 - val_accuracy: 0.7045\n",
            "Epoch 8/40\n",
            "30/30 [==============================] - 0s 13ms/step - loss: 0.5691 - accuracy: 0.7085 - val_loss: 0.5703 - val_accuracy: 0.7084\n",
            "Epoch 9/40\n",
            "30/30 [==============================] - 0s 14ms/step - loss: 0.5600 - accuracy: 0.7157 - val_loss: 0.5651 - val_accuracy: 0.7152\n",
            "Epoch 10/40\n",
            "30/30 [==============================] - 0s 13ms/step - loss: 0.5537 - accuracy: 0.7243 - val_loss: 0.5590 - val_accuracy: 0.7186\n",
            "Epoch 11/40\n",
            "30/30 [==============================] - 0s 13ms/step - loss: 0.5480 - accuracy: 0.7293 - val_loss: 0.5738 - val_accuracy: 0.7027\n",
            "Epoch 12/40\n",
            "30/30 [==============================] - 1s 17ms/step - loss: 0.5498 - accuracy: 0.7262 - val_loss: 0.5530 - val_accuracy: 0.7234\n",
            "Epoch 13/40\n",
            "30/30 [==============================] - 1s 18ms/step - loss: 0.5482 - accuracy: 0.7275 - val_loss: 0.5533 - val_accuracy: 0.7261\n",
            "Epoch 14/40\n",
            "30/30 [==============================] - 0s 14ms/step - loss: 0.5498 - accuracy: 0.7235 - val_loss: 0.5594 - val_accuracy: 0.7214\n",
            "Epoch 15/40\n",
            "30/30 [==============================] - 0s 13ms/step - loss: 0.5420 - accuracy: 0.7326 - val_loss: 0.5464 - val_accuracy: 0.7286\n",
            "Epoch 16/40\n",
            "30/30 [==============================] - 0s 14ms/step - loss: 0.5352 - accuracy: 0.7343 - val_loss: 0.5438 - val_accuracy: 0.7294\n",
            "Epoch 17/40\n",
            "30/30 [==============================] - 0s 13ms/step - loss: 0.5367 - accuracy: 0.7355 - val_loss: 0.5583 - val_accuracy: 0.7214\n",
            "Epoch 18/40\n",
            "30/30 [==============================] - 0s 14ms/step - loss: 0.5345 - accuracy: 0.7376 - val_loss: 0.5415 - val_accuracy: 0.7322\n",
            "Epoch 19/40\n",
            "30/30 [==============================] - 0s 14ms/step - loss: 0.5321 - accuracy: 0.7388 - val_loss: 0.5646 - val_accuracy: 0.7170\n",
            "Epoch 20/40\n",
            "30/30 [==============================] - 0s 15ms/step - loss: 0.5433 - accuracy: 0.7284 - val_loss: 0.5466 - val_accuracy: 0.7278\n",
            "Epoch 21/40\n",
            "30/30 [==============================] - 0s 16ms/step - loss: 0.5379 - accuracy: 0.7352 - val_loss: 0.5418 - val_accuracy: 0.7327\n",
            "Epoch 22/40\n",
            "30/30 [==============================] - 0s 16ms/step - loss: 0.5298 - accuracy: 0.7389 - val_loss: 0.5445 - val_accuracy: 0.7302\n",
            "Epoch 23/40\n",
            "30/30 [==============================] - 0s 13ms/step - loss: 0.5324 - accuracy: 0.7357 - val_loss: 0.5384 - val_accuracy: 0.7344\n",
            "Epoch 24/40\n",
            "30/30 [==============================] - 1s 17ms/step - loss: 0.5305 - accuracy: 0.7372 - val_loss: 0.5379 - val_accuracy: 0.7330\n",
            "Epoch 25/40\n",
            "30/30 [==============================] - 1s 19ms/step - loss: 0.5272 - accuracy: 0.7423 - val_loss: 0.5372 - val_accuracy: 0.7353\n",
            "Epoch 26/40\n",
            "30/30 [==============================] - 0s 13ms/step - loss: 0.5311 - accuracy: 0.7367 - val_loss: 0.5409 - val_accuracy: 0.7314\n",
            "Epoch 27/40\n",
            "30/30 [==============================] - 0s 14ms/step - loss: 0.5235 - accuracy: 0.7441 - val_loss: 0.5421 - val_accuracy: 0.7318\n",
            "Epoch 28/40\n",
            "30/30 [==============================] - 0s 13ms/step - loss: 0.5265 - accuracy: 0.7430 - val_loss: 0.5340 - val_accuracy: 0.7360\n",
            "Epoch 29/40\n",
            "30/30 [==============================] - 0s 13ms/step - loss: 0.5260 - accuracy: 0.7438 - val_loss: 0.5366 - val_accuracy: 0.7333\n",
            "Epoch 30/40\n",
            "30/30 [==============================] - 0s 12ms/step - loss: 0.5242 - accuracy: 0.7433 - val_loss: 0.5560 - val_accuracy: 0.7218\n",
            "Epoch 31/40\n",
            "30/30 [==============================] - 0s 13ms/step - loss: 0.5227 - accuracy: 0.7463 - val_loss: 0.5397 - val_accuracy: 0.7323\n",
            "Epoch 32/40\n",
            "30/30 [==============================] - 0s 13ms/step - loss: 0.5257 - accuracy: 0.7415 - val_loss: 0.5325 - val_accuracy: 0.7383\n",
            "Epoch 33/40\n",
            "30/30 [==============================] - 0s 13ms/step - loss: 0.5271 - accuracy: 0.7415 - val_loss: 0.5439 - val_accuracy: 0.7273\n",
            "Epoch 34/40\n",
            "30/30 [==============================] - 0s 13ms/step - loss: 0.5277 - accuracy: 0.7438 - val_loss: 0.5320 - val_accuracy: 0.7382\n",
            "Epoch 35/40\n",
            "30/30 [==============================] - 0s 13ms/step - loss: 0.5219 - accuracy: 0.7447 - val_loss: 0.5322 - val_accuracy: 0.7388\n",
            "Epoch 36/40\n",
            "30/30 [==============================] - 0s 13ms/step - loss: 0.5193 - accuracy: 0.7479 - val_loss: 0.5335 - val_accuracy: 0.7349\n",
            "Epoch 37/40\n",
            "30/30 [==============================] - 0s 13ms/step - loss: 0.5204 - accuracy: 0.7467 - val_loss: 0.5517 - val_accuracy: 0.7268\n",
            "Epoch 38/40\n",
            "30/30 [==============================] - 0s 13ms/step - loss: 0.5196 - accuracy: 0.7446 - val_loss: 0.5307 - val_accuracy: 0.7394\n",
            "Epoch 39/40\n",
            "30/30 [==============================] - 0s 14ms/step - loss: 0.5213 - accuracy: 0.7459 - val_loss: 0.5307 - val_accuracy: 0.7394\n",
            "Epoch 40/40\n",
            "30/30 [==============================] - 0s 13ms/step - loss: 0.5178 - accuracy: 0.7475 - val_loss: 0.5334 - val_accuracy: 0.7362\n"
          ]
        }
      ]
    },
    {
      "cell_type": "code",
      "source": [
        "results = model4.evaluate(X_test_enc, y_test)"
      ],
      "metadata": {
        "colab": {
          "base_uri": "https://localhost:8080/"
        },
        "id": "o_PFkMJdqkT6",
        "outputId": "695e9740-3438-4bb6-b77e-5ce47c747f92"
      },
      "execution_count": null,
      "outputs": [
        {
          "output_type": "stream",
          "name": "stdout",
          "text": [
            "782/782 [==============================] - 2s 3ms/step - loss: 0.5335 - accuracy: 0.7344\n"
          ]
        }
      ]
    },
    {
      "cell_type": "code",
      "source": [
        "plot_history(history.history, path=\"standard.png\")\n",
        "plt.show()"
      ],
      "metadata": {
        "colab": {
          "base_uri": "https://localhost:8080/",
          "height": 384
        },
        "id": "X4CmjM6p-SvL",
        "outputId": "7f79bc90-53b3-41dd-bd65-a804240d252f"
      },
      "execution_count": null,
      "outputs": [
        {
          "output_type": "display_data",
          "data": {
            "image/png": "[encoded data removed]",
            "text/plain": [
              "<Figure size 720x360 with 2 Axes>"
            ]
          },
          "metadata": {
            "needs_background": "light"
          }
        }
      ]
    },
    {
      "cell_type": "markdown",
      "metadata": {
        "id": "K0npTvFuVt5R"
      },
      "source": [
        "### Adding two extra dense layers"
      ]
    },
    {
      "cell_type": "code",
      "execution_count": null,
      "metadata": {
        "colab": {
          "base_uri": "https://localhost:8080/"
        },
        "id": "PowyhyRqcdDA",
        "outputId": "c9c23658-4c82-443b-f5e1-f7a6b4b4356a"
      },
      "outputs": [
        {
          "output_type": "stream",
          "name": "stdout",
          "text": [
            "Model: \"model_5\"\n",
            "_________________________________________________________________\n",
            " Layer (type)                Output Shape              Param #   \n",
            "=================================================================\n",
            " input_8 (InputLayer)        [(None, 256)]             0         \n",
            "                                                                 \n",
            " GloVe_Embeddings (Embedding  (None, 256, 300)         120000300 \n",
            " )                                                               \n",
            "                                                                 \n",
            " global_average_pooling1d_3   (None, 300)              0         \n",
            " (GlobalAveragePooling1D)                                        \n",
            "                                                                 \n",
            " extra_dense_layer (Dense)   (None, 300)               90300     \n",
            "                                                                 \n",
            " extra_dense_layer_2 (Dense)  (None, 100)              30100     \n",
            "                                                                 \n",
            " dense_layer (Dense)         (None, 16)                1616      \n",
            "                                                                 \n",
            " dense_layer_output (Dense)  (None, 1)                 17        \n",
            "                                                                 \n",
            "=================================================================\n",
            "Total params: 120,122,333\n",
            "Trainable params: 122,033\n",
            "Non-trainable params: 120,000,300\n",
            "_________________________________________________________________\n"
          ]
        }
      ],
      "source": [
        "# Inspect model performance with 1 hidden layer, pre-trained embeddings\n",
        "# your code goes here\n",
        "\n",
        "from keras.models import Model\n",
        "# The input is an array of target indices e.g. [2, 45, 7, 23,...9]\n",
        "input = Input((256,), dtype='int32')\n",
        "embedding = embeddingLayer(input)\n",
        "avg_pool = GlobalAveragePooling1D()(embedding) \n",
        "extra_dense = tf.keras.layers.Dense(units=300, name=\"extra_dense_layer\")(avg_pool)\n",
        "extra_dense_2 = tf.keras.layers.Dense(units=100, name=\"extra_dense_layer_2\")(extra_dense)\n",
        "dense_layer = tf.keras.layers.Dense(units=16, name=\"dense_layer\")(extra_dense_2)\n",
        "output_layer = tf.keras.layers.Dense(units=1, name=\"dense_layer_output\", activation = 'sigmoid')(dense_layer)\n",
        "\n",
        "model4_2 = Model(inputs=[input], outputs=[output_layer])\n",
        "model4_2.compile(loss='binary_crossentropy', optimizer='adam', metrics=['accuracy'])\n",
        "model4_2.summary()"
      ]
    },
    {
      "cell_type": "code",
      "source": [
        "# Train and test the model\n",
        "\n",
        "history = model4_2.fit(partial_X_train,\n",
        "                    partial_y_train,\n",
        "                    epochs=40,\n",
        "                    batch_size=512,\n",
        "                    validation_data=(X_val, y_val),\n",
        "                    verbose=1)"
      ],
      "metadata": {
        "colab": {
          "base_uri": "https://localhost:8080/"
        },
        "id": "zdptWLyattDq",
        "outputId": "acfb6584-9cb9-4bd1-f8ed-0b09e53bbe25"
      },
      "execution_count": null,
      "outputs": [
        {
          "output_type": "stream",
          "name": "stdout",
          "text": [
            "Epoch 1/40\n",
            "30/30 [==============================] - 1s 19ms/step - loss: 0.6819 - accuracy: 0.5639 - val_loss: 0.6709 - val_accuracy: 0.5804\n",
            "Epoch 2/40\n",
            "30/30 [==============================] - 0s 13ms/step - loss: 0.6416 - accuracy: 0.6409 - val_loss: 0.6165 - val_accuracy: 0.6653\n",
            "Epoch 3/40\n",
            "30/30 [==============================] - 0s 13ms/step - loss: 0.6080 - accuracy: 0.6735 - val_loss: 0.6090 - val_accuracy: 0.6677\n",
            "Epoch 4/40\n",
            "30/30 [==============================] - 0s 13ms/step - loss: 0.5815 - accuracy: 0.6994 - val_loss: 0.5767 - val_accuracy: 0.7030\n",
            "Epoch 5/40\n",
            "30/30 [==============================] - 0s 13ms/step - loss: 0.5622 - accuracy: 0.7178 - val_loss: 0.5776 - val_accuracy: 0.7081\n",
            "Epoch 6/40\n",
            "30/30 [==============================] - 0s 13ms/step - loss: 0.5733 - accuracy: 0.7021 - val_loss: 0.5637 - val_accuracy: 0.7137\n",
            "Epoch 7/40\n",
            "30/30 [==============================] - 0s 14ms/step - loss: 0.5589 - accuracy: 0.7187 - val_loss: 0.5651 - val_accuracy: 0.7119\n",
            "Epoch 8/40\n",
            "30/30 [==============================] - 0s 14ms/step - loss: 0.5527 - accuracy: 0.7254 - val_loss: 0.5624 - val_accuracy: 0.7138\n",
            "Epoch 9/40\n",
            "30/30 [==============================] - 0s 14ms/step - loss: 0.5426 - accuracy: 0.7311 - val_loss: 0.5440 - val_accuracy: 0.7311\n",
            "Epoch 10/40\n",
            "30/30 [==============================] - 0s 13ms/step - loss: 0.5494 - accuracy: 0.7293 - val_loss: 0.5463 - val_accuracy: 0.7281\n",
            "Epoch 11/40\n",
            "30/30 [==============================] - 0s 14ms/step - loss: 0.5381 - accuracy: 0.7317 - val_loss: 0.5409 - val_accuracy: 0.7306\n",
            "Epoch 12/40\n",
            "30/30 [==============================] - 0s 13ms/step - loss: 0.5357 - accuracy: 0.7362 - val_loss: 0.5444 - val_accuracy: 0.7310\n",
            "Epoch 13/40\n",
            "30/30 [==============================] - 0s 14ms/step - loss: 0.5315 - accuracy: 0.7407 - val_loss: 0.5505 - val_accuracy: 0.7252\n",
            "Epoch 14/40\n",
            "30/30 [==============================] - 0s 13ms/step - loss: 0.5277 - accuracy: 0.7426 - val_loss: 0.5819 - val_accuracy: 0.7076\n",
            "Epoch 15/40\n",
            "30/30 [==============================] - 0s 14ms/step - loss: 0.5543 - accuracy: 0.7221 - val_loss: 0.5485 - val_accuracy: 0.7277\n",
            "Epoch 16/40\n",
            "30/30 [==============================] - 0s 13ms/step - loss: 0.5372 - accuracy: 0.7353 - val_loss: 0.6008 - val_accuracy: 0.6937\n",
            "Epoch 17/40\n",
            "30/30 [==============================] - 0s 14ms/step - loss: 0.5425 - accuracy: 0.7304 - val_loss: 0.5424 - val_accuracy: 0.7313\n",
            "Epoch 18/40\n",
            "30/30 [==============================] - 0s 14ms/step - loss: 0.5244 - accuracy: 0.7439 - val_loss: 0.5394 - val_accuracy: 0.7328\n",
            "Epoch 19/40\n",
            "30/30 [==============================] - 0s 14ms/step - loss: 0.5369 - accuracy: 0.7360 - val_loss: 0.5350 - val_accuracy: 0.7369\n",
            "Epoch 20/40\n",
            "30/30 [==============================] - 0s 13ms/step - loss: 0.5223 - accuracy: 0.7457 - val_loss: 0.5482 - val_accuracy: 0.7284\n",
            "Epoch 21/40\n",
            "30/30 [==============================] - 0s 13ms/step - loss: 0.5291 - accuracy: 0.7419 - val_loss: 0.5571 - val_accuracy: 0.7229\n",
            "Epoch 22/40\n",
            "30/30 [==============================] - 0s 14ms/step - loss: 0.5268 - accuracy: 0.7423 - val_loss: 0.5499 - val_accuracy: 0.7256\n",
            "Epoch 23/40\n",
            "30/30 [==============================] - 0s 14ms/step - loss: 0.5291 - accuracy: 0.7379 - val_loss: 0.5696 - val_accuracy: 0.7137\n",
            "Epoch 24/40\n",
            "30/30 [==============================] - 0s 13ms/step - loss: 0.5324 - accuracy: 0.7377 - val_loss: 0.5307 - val_accuracy: 0.7395\n",
            "Epoch 25/40\n",
            "30/30 [==============================] - 0s 14ms/step - loss: 0.5172 - accuracy: 0.7501 - val_loss: 0.5413 - val_accuracy: 0.7339\n",
            "Epoch 26/40\n",
            "30/30 [==============================] - 0s 13ms/step - loss: 0.5265 - accuracy: 0.7421 - val_loss: 0.5326 - val_accuracy: 0.7374\n",
            "Epoch 27/40\n",
            "30/30 [==============================] - 0s 14ms/step - loss: 0.5184 - accuracy: 0.7488 - val_loss: 0.5361 - val_accuracy: 0.7356\n",
            "Epoch 28/40\n",
            "30/30 [==============================] - 0s 14ms/step - loss: 0.5208 - accuracy: 0.7437 - val_loss: 0.5325 - val_accuracy: 0.7370\n",
            "Epoch 29/40\n",
            "30/30 [==============================] - 0s 13ms/step - loss: 0.5209 - accuracy: 0.7458 - val_loss: 0.5300 - val_accuracy: 0.7385\n",
            "Epoch 30/40\n",
            "30/30 [==============================] - 0s 14ms/step - loss: 0.5208 - accuracy: 0.7458 - val_loss: 0.5428 - val_accuracy: 0.7306\n",
            "Epoch 31/40\n",
            "30/30 [==============================] - 0s 14ms/step - loss: 0.5283 - accuracy: 0.7411 - val_loss: 0.5374 - val_accuracy: 0.7360\n",
            "Epoch 32/40\n",
            "30/30 [==============================] - 0s 14ms/step - loss: 0.5155 - accuracy: 0.7500 - val_loss: 0.5294 - val_accuracy: 0.7389\n",
            "Epoch 33/40\n",
            "30/30 [==============================] - 0s 13ms/step - loss: 0.5248 - accuracy: 0.7439 - val_loss: 0.5292 - val_accuracy: 0.7393\n",
            "Epoch 34/40\n",
            "30/30 [==============================] - 0s 13ms/step - loss: 0.5205 - accuracy: 0.7453 - val_loss: 0.5392 - val_accuracy: 0.7358\n",
            "Epoch 35/40\n",
            "30/30 [==============================] - 0s 14ms/step - loss: 0.5169 - accuracy: 0.7478 - val_loss: 0.5280 - val_accuracy: 0.7381\n",
            "Epoch 36/40\n",
            "30/30 [==============================] - 0s 14ms/step - loss: 0.5168 - accuracy: 0.7468 - val_loss: 0.5281 - val_accuracy: 0.7399\n",
            "Epoch 37/40\n",
            "30/30 [==============================] - 0s 14ms/step - loss: 0.5217 - accuracy: 0.7444 - val_loss: 0.5348 - val_accuracy: 0.7370\n",
            "Epoch 38/40\n",
            "30/30 [==============================] - 0s 13ms/step - loss: 0.5167 - accuracy: 0.7496 - val_loss: 0.5264 - val_accuracy: 0.7408\n",
            "Epoch 39/40\n",
            "30/30 [==============================] - 0s 13ms/step - loss: 0.5192 - accuracy: 0.7486 - val_loss: 0.5328 - val_accuracy: 0.7345\n",
            "Epoch 40/40\n",
            "30/30 [==============================] - 0s 13ms/step - loss: 0.5193 - accuracy: 0.7445 - val_loss: 0.5377 - val_accuracy: 0.7333\n"
          ]
        }
      ]
    },
    {
      "cell_type": "code",
      "source": [
        "results = model4_2.evaluate(X_test_enc, y_test)"
      ],
      "metadata": {
        "colab": {
          "base_uri": "https://localhost:8080/"
        },
        "id": "ZZX489B9pfgr",
        "outputId": "d1a9ce0c-4eaa-4d80-d56b-f1d8bd92cb80"
      },
      "execution_count": null,
      "outputs": [
        {
          "output_type": "stream",
          "name": "stdout",
          "text": [
            "782/782 [==============================] - 2s 3ms/step - loss: 0.5353 - accuracy: 0.7329\n"
          ]
        }
      ]
    },
    {
      "cell_type": "code",
      "source": [
        "plot_history(history.history, path=\"standard.png\")\n",
        "plt.show()"
      ],
      "metadata": {
        "colab": {
          "base_uri": "https://localhost:8080/",
          "height": 384
        },
        "id": "kGUl2T-2-b5c",
        "outputId": "5db4676c-2de4-4b85-8f38-e92088f9e646"
      },
      "execution_count": null,
      "outputs": [
        {
          "output_type": "display_data",
          "data": {
            "image/png": "[encoded data removed]",
            "text/plain": [
              "<Figure size 720x360 with 2 Axes>"
            ]
          },
          "metadata": {
            "needs_background": "light"
          }
        }
      ]
    },
    {
      "cell_type": "markdown",
      "metadata": {
        "id": "XisS32PaTATf"
      },
      "source": [
        "These two experiments show that adding extra dense layers can slightly improve accuracy over model 3-1.\n",
        "\n",
        "---\n",
        "\n"
      ]
    },
    {
      "cell_type": "markdown",
      "metadata": {
        "id": "CrfC9Mu-RHID"
      },
      "source": [
        "#  Model 5: CNN for Text Classification"
      ]
    },
    {
      "cell_type": "markdown",
      "metadata": {
        "id": "EPaFmFk1BMFf"
      },
      "source": [
        "In this section, we build a Convolutional Neural Network (CNN) for text classification. We start by using one CNN layer and then adding another layer. You could use embeddings from pre-trained or scratch."
      ]
    },
    {
      "cell_type": "markdown",
      "metadata": {
        "id": "zjOJrGCzwGM5"
      },
      "source": [
        "##  Model 5-1: Basic CNN model for Text Classification "
      ]
    },
    {
      "cell_type": "code",
      "execution_count": null,
      "metadata": {
        "colab": {
          "base_uri": "https://localhost:8080/"
        },
        "id": "rXBstOw0sCYF",
        "outputId": "5116da93-7a23-48cc-c84c-82526484235c"
      },
      "outputs": [
        {
          "output_type": "stream",
          "name": "stdout",
          "text": [
            "Model: \"model_3\"\n",
            "_________________________________________________________________\n",
            " Layer (type)                Output Shape              Param #   \n",
            "=================================================================\n",
            " input_6 (InputLayer)        [(None, 256)]             0         \n",
            "                                                                 \n",
            " embed_layer (Embedding)     (None, 256, 300)          3000000   \n",
            "                                                                 \n",
            " conv1d (Conv1D)             (None, 251, 100)          180100    \n",
            "                                                                 \n",
            " global_max_pooling1d (Globa  (None, 100)              0         \n",
            " lMaxPooling1D)                                                  \n",
            "                                                                 \n",
            " dense_layer_output (Dense)  (None, 1)                 101       \n",
            "                                                                 \n",
            "=================================================================\n",
            "Total params: 3,180,201\n",
            "Trainable params: 3,180,201\n",
            "Non-trainable params: 0\n",
            "_________________________________________________________________\n"
          ]
        }
      ],
      "source": [
        "from keras.layers.pooling import GlobalMaxPooling1D\n",
        "hidden_layer=16\n",
        "\n",
        "from keras.models import Model\n",
        "\n",
        "input = Input((256,), dtype='int32')\n",
        "embedding = Embedding(VOCAB_SIZE, 300, name='embed_layer',\n",
        "                        \tembeddings_initializer='glorot_uniform',\n",
        "                         \tinput_length=500, mask_zero=True)(input)\n",
        "conv = tf.keras.layers.Conv1D(100,6)(embedding)\n",
        "pool = GlobalMaxPooling1D()(conv)\n",
        "output_layer = tf.keras.layers.Dense(units=1, name=\"dense_layer_output\", activation = 'sigmoid')(pool)\n",
        "\n",
        "model5_1 = Model(inputs=[input], outputs=[output_layer])\n",
        "model5_1.compile(loss='binary_crossentropy', optimizer='adam', metrics=['accuracy'])\n",
        "model5_1.summary()\n"
      ]
    },
    {
      "cell_type": "code",
      "execution_count": null,
      "metadata": {
        "id": "-G5MrDPJFBzK",
        "colab": {
          "base_uri": "https://localhost:8080/"
        },
        "outputId": "b19bca84-2033-457c-ac50-1887d2701263"
      },
      "outputs": [
        {
          "output_type": "stream",
          "name": "stdout",
          "text": [
            "Epoch 1/40\n",
            "30/30 [==============================] - 12s 149ms/step - loss: 0.6627 - accuracy: 0.6948 - val_loss: 0.5894 - val_accuracy: 0.7869\n",
            "Epoch 2/40\n",
            "30/30 [==============================] - 4s 121ms/step - loss: 0.4625 - accuracy: 0.8269 - val_loss: 0.3625 - val_accuracy: 0.8483\n",
            "Epoch 3/40\n",
            "30/30 [==============================] - 4s 122ms/step - loss: 0.2742 - accuracy: 0.8959 - val_loss: 0.3055 - val_accuracy: 0.8681\n",
            "Epoch 4/40\n",
            "30/30 [==============================] - 4s 129ms/step - loss: 0.1716 - accuracy: 0.9455 - val_loss: 0.3007 - val_accuracy: 0.8745\n",
            "Epoch 5/40\n",
            "30/30 [==============================] - 4s 122ms/step - loss: 0.1025 - accuracy: 0.9751 - val_loss: 0.3174 - val_accuracy: 0.8701\n",
            "Epoch 6/40\n",
            "30/30 [==============================] - 4s 128ms/step - loss: 0.0564 - accuracy: 0.9900 - val_loss: 0.3454 - val_accuracy: 0.8689\n",
            "Epoch 7/40\n",
            "30/30 [==============================] - 4s 129ms/step - loss: 0.0306 - accuracy: 0.9968 - val_loss: 0.3761 - val_accuracy: 0.8665\n",
            "Epoch 8/40\n",
            "30/30 [==============================] - 4s 122ms/step - loss: 0.0171 - accuracy: 0.9991 - val_loss: 0.4030 - val_accuracy: 0.8650\n",
            "Epoch 9/40\n",
            "30/30 [==============================] - 4s 130ms/step - loss: 0.0103 - accuracy: 0.9998 - val_loss: 0.4289 - val_accuracy: 0.8632\n",
            "Epoch 10/40\n",
            "30/30 [==============================] - 4s 123ms/step - loss: 0.0066 - accuracy: 1.0000 - val_loss: 0.4520 - val_accuracy: 0.8617\n",
            "Epoch 11/40\n",
            "30/30 [==============================] - 4s 123ms/step - loss: 0.0048 - accuracy: 1.0000 - val_loss: 0.4708 - val_accuracy: 0.8609\n",
            "Epoch 12/40\n",
            "30/30 [==============================] - 4s 123ms/step - loss: 0.0036 - accuracy: 1.0000 - val_loss: 0.4879 - val_accuracy: 0.8598\n",
            "Epoch 13/40\n",
            "30/30 [==============================] - 4s 122ms/step - loss: 0.0028 - accuracy: 1.0000 - val_loss: 0.5029 - val_accuracy: 0.8597\n",
            "Epoch 14/40\n",
            "30/30 [==============================] - 4s 129ms/step - loss: 0.0023 - accuracy: 1.0000 - val_loss: 0.5163 - val_accuracy: 0.8589\n",
            "Epoch 15/40\n",
            "30/30 [==============================] - 4s 122ms/step - loss: 0.0019 - accuracy: 1.0000 - val_loss: 0.5285 - val_accuracy: 0.8582\n",
            "Epoch 16/40\n",
            "30/30 [==============================] - 4s 123ms/step - loss: 0.0016 - accuracy: 1.0000 - val_loss: 0.5397 - val_accuracy: 0.8585\n",
            "Epoch 17/40\n",
            "30/30 [==============================] - 4s 128ms/step - loss: 0.0014 - accuracy: 1.0000 - val_loss: 0.5504 - val_accuracy: 0.8573\n",
            "Epoch 18/40\n",
            "30/30 [==============================] - 4s 122ms/step - loss: 0.0012 - accuracy: 1.0000 - val_loss: 0.5605 - val_accuracy: 0.8569\n",
            "Epoch 19/40\n",
            "30/30 [==============================] - 4s 129ms/step - loss: 0.0010 - accuracy: 1.0000 - val_loss: 0.5697 - val_accuracy: 0.8560\n",
            "Epoch 20/40\n",
            "30/30 [==============================] - 4s 129ms/step - loss: 9.0589e-04 - accuracy: 1.0000 - val_loss: 0.5778 - val_accuracy: 0.8561\n",
            "Epoch 21/40\n",
            "30/30 [==============================] - 4s 122ms/step - loss: 8.0420e-04 - accuracy: 1.0000 - val_loss: 0.5862 - val_accuracy: 0.8557\n",
            "Epoch 22/40\n",
            "30/30 [==============================] - 4s 129ms/step - loss: 7.2011e-04 - accuracy: 1.0000 - val_loss: 0.5937 - val_accuracy: 0.8558\n",
            "Epoch 23/40\n",
            "30/30 [==============================] - 4s 122ms/step - loss: 6.4801e-04 - accuracy: 1.0000 - val_loss: 0.6013 - val_accuracy: 0.8555\n",
            "Epoch 24/40\n",
            "30/30 [==============================] - 4s 122ms/step - loss: 5.8567e-04 - accuracy: 1.0000 - val_loss: 0.6083 - val_accuracy: 0.8549\n",
            "Epoch 25/40\n",
            "30/30 [==============================] - 4s 129ms/step - loss: 5.3298e-04 - accuracy: 1.0000 - val_loss: 0.6153 - val_accuracy: 0.8546\n",
            "Epoch 26/40\n",
            "30/30 [==============================] - 4s 122ms/step - loss: 4.8803e-04 - accuracy: 1.0000 - val_loss: 0.6218 - val_accuracy: 0.8544\n",
            "Epoch 27/40\n",
            "30/30 [==============================] - 4s 123ms/step - loss: 4.4666e-04 - accuracy: 1.0000 - val_loss: 0.6276 - val_accuracy: 0.8545\n",
            "Epoch 28/40\n",
            "30/30 [==============================] - 4s 128ms/step - loss: 4.1069e-04 - accuracy: 1.0000 - val_loss: 0.6334 - val_accuracy: 0.8544\n",
            "Epoch 29/40\n",
            "30/30 [==============================] - 4s 122ms/step - loss: 3.7916e-04 - accuracy: 1.0000 - val_loss: 0.6392 - val_accuracy: 0.8547\n",
            "Epoch 30/40\n",
            "30/30 [==============================] - 4s 122ms/step - loss: 3.5194e-04 - accuracy: 1.0000 - val_loss: 0.6449 - val_accuracy: 0.8542\n",
            "Epoch 31/40\n",
            "30/30 [==============================] - 4s 129ms/step - loss: 3.2605e-04 - accuracy: 1.0000 - val_loss: 0.6505 - val_accuracy: 0.8545\n",
            "Epoch 32/40\n",
            "30/30 [==============================] - 4s 129ms/step - loss: 3.0322e-04 - accuracy: 1.0000 - val_loss: 0.6558 - val_accuracy: 0.8548\n",
            "Epoch 33/40\n",
            "30/30 [==============================] - 4s 122ms/step - loss: 2.8286e-04 - accuracy: 1.0000 - val_loss: 0.6608 - val_accuracy: 0.8546\n",
            "Epoch 34/40\n",
            "30/30 [==============================] - 4s 129ms/step - loss: 2.6471e-04 - accuracy: 1.0000 - val_loss: 0.6659 - val_accuracy: 0.8545\n",
            "Epoch 35/40\n",
            "30/30 [==============================] - 4s 129ms/step - loss: 2.4768e-04 - accuracy: 1.0000 - val_loss: 0.6705 - val_accuracy: 0.8540\n",
            "Epoch 36/40\n",
            "30/30 [==============================] - 4s 122ms/step - loss: 2.3266e-04 - accuracy: 1.0000 - val_loss: 0.6750 - val_accuracy: 0.8538\n",
            "Epoch 37/40\n",
            "30/30 [==============================] - 4s 128ms/step - loss: 2.1897e-04 - accuracy: 1.0000 - val_loss: 0.6796 - val_accuracy: 0.8542\n",
            "Epoch 38/40\n",
            "30/30 [==============================] - 4s 122ms/step - loss: 2.0660e-04 - accuracy: 1.0000 - val_loss: 0.6839 - val_accuracy: 0.8537\n",
            "Epoch 39/40\n",
            "30/30 [==============================] - 4s 128ms/step - loss: 1.9469e-04 - accuracy: 1.0000 - val_loss: 0.6882 - val_accuracy: 0.8538\n",
            "Epoch 40/40\n",
            "30/30 [==============================] - 4s 122ms/step - loss: 1.8371e-04 - accuracy: 1.0000 - val_loss: 0.6925 - val_accuracy: 0.8542\n",
            "782/782 [==============================] - 5s 6ms/step - loss: 0.7060 - accuracy: 0.8490\n"
          ]
        }
      ],
      "source": [
        "# Train and test the model\n",
        "# Train and test the model\n",
        "history = model5_1.fit(partial_X_train,\n",
        "                    partial_y_train,\n",
        "                    epochs=40,\n",
        "                    batch_size=512,\n",
        "                    validation_data=(X_val, y_val),\n",
        "                    verbose=1)\n",
        "# your code goes here\n",
        "results = model5_1.evaluate(X_test_enc, y_test)"
      ]
    },
    {
      "cell_type": "code",
      "source": [
        "results = model5_1.evaluate(X_test_enc, y_test)"
      ],
      "metadata": {
        "colab": {
          "base_uri": "https://localhost:8080/"
        },
        "id": "YHkrNoZ21qEn",
        "outputId": "49df437c-c30a-48de-d942-fef6b502abdb"
      },
      "execution_count": null,
      "outputs": [
        {
          "output_type": "stream",
          "name": "stdout",
          "text": [
            "782/782 [==============================] - 5s 6ms/step - loss: 0.7060 - accuracy: 0.8490\n"
          ]
        }
      ]
    },
    {
      "cell_type": "code",
      "execution_count": null,
      "metadata": {
        "colab": {
          "base_uri": "https://localhost:8080/",
          "height": 384
        },
        "id": "8nvkxunysjhr",
        "outputId": "763e06f4-1b4f-4193-aa89-0b3be58df5b9"
      },
      "outputs": [
        {
          "output_type": "display_data",
          "data": {
            "image/png": "[encoded data removed]",
            "text/plain": [
              "<Figure size 720x360 with 2 Axes>"
            ]
          },
          "metadata": {
            "needs_background": "light"
          }
        }
      ],
      "source": [
        "# your code goes here\n",
        "plot_history(history.history, path=\"standard.png\")\n",
        "plt.show()\n"
      ]
    },
    {
      "cell_type": "markdown",
      "metadata": {
        "id": "XkQMLxw-wWG6"
      },
      "source": [
        "## Model 5-2: Adding extra convolutional layer"
      ]
    },
    {
      "cell_type": "code",
      "execution_count": null,
      "metadata": {
        "colab": {
          "base_uri": "https://localhost:8080/"
        },
        "id": "7nvF662HOoqg",
        "outputId": "5a24c09a-c6dc-4c3d-af79-4ec6aee82101"
      },
      "outputs": [
        {
          "output_type": "stream",
          "name": "stdout",
          "text": [
            "Model: \"model_6\"\n",
            "_________________________________________________________________\n",
            " Layer (type)                Output Shape              Param #   \n",
            "=================================================================\n",
            " input_9 (InputLayer)        [(None, 256)]             0         \n",
            "                                                                 \n",
            " embed_layer (Embedding)     (None, 256, 300)          3000000   \n",
            "                                                                 \n",
            " conv1d_1 (Conv1D)           (None, 251, 100)          180100    \n",
            "                                                                 \n",
            " conv1d_2 (Conv1D)           (None, 246, 100)          60100     \n",
            "                                                                 \n",
            " global_max_pooling1d_1 (Glo  (None, 100)              0         \n",
            " balMaxPooling1D)                                                \n",
            "                                                                 \n",
            " dense_layer_output (Dense)  (None, 1)                 101       \n",
            "                                                                 \n",
            "=================================================================\n",
            "Total params: 3,240,301\n",
            "Trainable params: 3,240,301\n",
            "Non-trainable params: 0\n",
            "_________________________________________________________________\n"
          ]
        }
      ],
      "source": [
        "# your code goes here\n",
        "\n",
        "from keras.layers.pooling import GlobalMaxPooling1D\n",
        "hidden_layer=16\n",
        "\n",
        "from keras.models import Model\n",
        "\n",
        "input = Input((256,), dtype='int32')\n",
        "embedding = Embedding(VOCAB_SIZE, 300, name='embed_layer',\n",
        "                        \tembeddings_initializer='glorot_uniform',\n",
        "                         \tinput_length=500, mask_zero=True)(input)\n",
        "conv = tf.keras.layers.Conv1D(100,6)(embedding)\n",
        "conv2 = tf.keras.layers.Conv1D(100,6)(conv)\n",
        "pool = GlobalMaxPooling1D()(conv2)\n",
        "output_layer = tf.keras.layers.Dense(units=1, name=\"dense_layer_output\", activation = 'sigmoid')(pool)\n",
        "\n",
        "model5_2 = Model(inputs=[input], outputs=[output_layer])\n",
        "model5_2.compile(loss='binary_crossentropy', optimizer='adam', metrics=['accuracy'])\n",
        "model5_2.summary()\n"
      ]
    },
    {
      "cell_type": "code",
      "execution_count": null,
      "metadata": {
        "id": "hx8JLl4xPlua",
        "colab": {
          "base_uri": "https://localhost:8080/"
        },
        "outputId": "2e4ccc13-e80a-46eb-9cd2-2587306429ea"
      },
      "outputs": [
        {
          "output_type": "stream",
          "name": "stdout",
          "text": [
            "Epoch 1/40\n",
            "30/30 [==============================] - 17s 291ms/step - loss: 0.6218 - accuracy: 0.6701 - val_loss: 0.4280 - val_accuracy: 0.8011\n",
            "Epoch 2/40\n",
            "30/30 [==============================] - 7s 220ms/step - loss: 0.3586 - accuracy: 0.8461 - val_loss: 0.3608 - val_accuracy: 0.8427\n",
            "Epoch 3/40\n",
            "30/30 [==============================] - 7s 220ms/step - loss: 0.2136 - accuracy: 0.9195 - val_loss: 0.4118 - val_accuracy: 0.8374\n",
            "Epoch 4/40\n",
            "30/30 [==============================] - 7s 220ms/step - loss: 0.1203 - accuracy: 0.9589 - val_loss: 0.4545 - val_accuracy: 0.8419\n",
            "Epoch 5/40\n",
            "30/30 [==============================] - 7s 220ms/step - loss: 0.0585 - accuracy: 0.9818 - val_loss: 0.5448 - val_accuracy: 0.8387\n",
            "Epoch 6/40\n",
            "30/30 [==============================] - 7s 219ms/step - loss: 0.0254 - accuracy: 0.9941 - val_loss: 0.6471 - val_accuracy: 0.8396\n",
            "Epoch 7/40\n",
            "30/30 [==============================] - 7s 235ms/step - loss: 0.0095 - accuracy: 0.9988 - val_loss: 0.7464 - val_accuracy: 0.8389\n",
            "Epoch 8/40\n",
            "30/30 [==============================] - 7s 235ms/step - loss: 0.0032 - accuracy: 0.9999 - val_loss: 0.8230 - val_accuracy: 0.8375\n",
            "Epoch 9/40\n",
            "30/30 [==============================] - 7s 220ms/step - loss: 0.0013 - accuracy: 1.0000 - val_loss: 0.8668 - val_accuracy: 0.8366\n",
            "Epoch 10/40\n",
            "30/30 [==============================] - 7s 220ms/step - loss: 7.1019e-04 - accuracy: 1.0000 - val_loss: 0.8991 - val_accuracy: 0.8357\n",
            "Epoch 11/40\n",
            "30/30 [==============================] - 7s 220ms/step - loss: 4.8327e-04 - accuracy: 1.0000 - val_loss: 0.9259 - val_accuracy: 0.8363\n",
            "Epoch 12/40\n",
            "30/30 [==============================] - 7s 235ms/step - loss: 3.7408e-04 - accuracy: 1.0000 - val_loss: 0.9480 - val_accuracy: 0.8358\n",
            "Epoch 13/40\n",
            "30/30 [==============================] - 7s 220ms/step - loss: 3.0539e-04 - accuracy: 1.0000 - val_loss: 0.9681 - val_accuracy: 0.8351\n",
            "Epoch 14/40\n",
            "30/30 [==============================] - 7s 221ms/step - loss: 2.5571e-04 - accuracy: 1.0000 - val_loss: 0.9861 - val_accuracy: 0.8354\n",
            "Epoch 15/40\n",
            "30/30 [==============================] - 7s 220ms/step - loss: 2.1843e-04 - accuracy: 1.0000 - val_loss: 1.0024 - val_accuracy: 0.8352\n",
            "Epoch 16/40\n",
            "30/30 [==============================] - 7s 236ms/step - loss: 1.8944e-04 - accuracy: 1.0000 - val_loss: 1.0174 - val_accuracy: 0.8351\n",
            "Epoch 17/40\n",
            "30/30 [==============================] - 7s 223ms/step - loss: 1.6676e-04 - accuracy: 1.0000 - val_loss: 1.0318 - val_accuracy: 0.8358\n",
            "Epoch 18/40\n",
            "30/30 [==============================] - 7s 220ms/step - loss: 1.4771e-04 - accuracy: 1.0000 - val_loss: 1.0450 - val_accuracy: 0.8358\n",
            "Epoch 19/40\n",
            "30/30 [==============================] - 7s 220ms/step - loss: 1.3128e-04 - accuracy: 1.0000 - val_loss: 1.0572 - val_accuracy: 0.8347\n",
            "Epoch 20/40\n",
            "30/30 [==============================] - 7s 221ms/step - loss: 1.1803e-04 - accuracy: 1.0000 - val_loss: 1.0690 - val_accuracy: 0.8348\n",
            "Epoch 21/40\n",
            "30/30 [==============================] - 7s 221ms/step - loss: 1.0665e-04 - accuracy: 1.0000 - val_loss: 1.0801 - val_accuracy: 0.8346\n",
            "Epoch 22/40\n",
            "30/30 [==============================] - 7s 221ms/step - loss: 9.6924e-05 - accuracy: 1.0000 - val_loss: 1.0907 - val_accuracy: 0.8342\n",
            "Epoch 23/40\n",
            "30/30 [==============================] - 7s 221ms/step - loss: 8.8274e-05 - accuracy: 1.0000 - val_loss: 1.1008 - val_accuracy: 0.8349\n",
            "Epoch 24/40\n",
            "30/30 [==============================] - 7s 236ms/step - loss: 8.0879e-05 - accuracy: 1.0000 - val_loss: 1.1107 - val_accuracy: 0.8348\n",
            "Epoch 25/40\n",
            "30/30 [==============================] - 7s 221ms/step - loss: 7.4391e-05 - accuracy: 1.0000 - val_loss: 1.1199 - val_accuracy: 0.8347\n",
            "Epoch 26/40\n",
            "30/30 [==============================] - 7s 236ms/step - loss: 6.8787e-05 - accuracy: 1.0000 - val_loss: 1.1292 - val_accuracy: 0.8344\n",
            "Epoch 27/40\n",
            "30/30 [==============================] - 7s 221ms/step - loss: 6.3709e-05 - accuracy: 1.0000 - val_loss: 1.1378 - val_accuracy: 0.8345\n",
            "Epoch 28/40\n",
            "30/30 [==============================] - 7s 220ms/step - loss: 5.9108e-05 - accuracy: 1.0000 - val_loss: 1.1461 - val_accuracy: 0.8345\n",
            "Epoch 29/40\n",
            "30/30 [==============================] - 7s 221ms/step - loss: 5.4955e-05 - accuracy: 1.0000 - val_loss: 1.1543 - val_accuracy: 0.8343\n",
            "Epoch 30/40\n",
            "30/30 [==============================] - 7s 221ms/step - loss: 5.1341e-05 - accuracy: 1.0000 - val_loss: 1.1621 - val_accuracy: 0.8345\n",
            "Epoch 31/40\n",
            "30/30 [==============================] - 7s 221ms/step - loss: 4.8051e-05 - accuracy: 1.0000 - val_loss: 1.1697 - val_accuracy: 0.8346\n",
            "Epoch 32/40\n",
            "30/30 [==============================] - 7s 220ms/step - loss: 4.4976e-05 - accuracy: 1.0000 - val_loss: 1.1772 - val_accuracy: 0.8346\n",
            "Epoch 33/40\n",
            "30/30 [==============================] - 7s 221ms/step - loss: 4.2184e-05 - accuracy: 1.0000 - val_loss: 1.1843 - val_accuracy: 0.8343\n",
            "Epoch 34/40\n",
            "30/30 [==============================] - 7s 220ms/step - loss: 3.9695e-05 - accuracy: 1.0000 - val_loss: 1.1911 - val_accuracy: 0.8346\n",
            "Epoch 35/40\n",
            "30/30 [==============================] - 7s 236ms/step - loss: 3.7410e-05 - accuracy: 1.0000 - val_loss: 1.1980 - val_accuracy: 0.8346\n",
            "Epoch 36/40\n",
            "30/30 [==============================] - 7s 220ms/step - loss: 3.5361e-05 - accuracy: 1.0000 - val_loss: 1.2047 - val_accuracy: 0.8342\n",
            "Epoch 37/40\n",
            "30/30 [==============================] - 7s 235ms/step - loss: 3.3423e-05 - accuracy: 1.0000 - val_loss: 1.2110 - val_accuracy: 0.8341\n",
            "Epoch 38/40\n",
            "30/30 [==============================] - 7s 220ms/step - loss: 3.1649e-05 - accuracy: 1.0000 - val_loss: 1.2172 - val_accuracy: 0.8338\n",
            "Epoch 39/40\n",
            "30/30 [==============================] - 7s 236ms/step - loss: 3.0002e-05 - accuracy: 1.0000 - val_loss: 1.2234 - val_accuracy: 0.8337\n",
            "Epoch 40/40\n",
            "30/30 [==============================] - 7s 235ms/step - loss: 2.8533e-05 - accuracy: 1.0000 - val_loss: 1.2295 - val_accuracy: 0.8338\n"
          ]
        }
      ],
      "source": [
        "# Train and test the model\n",
        "# Train and test the model\n",
        "\n",
        "history = model5_2.fit(partial_X_train,\n",
        "                    partial_y_train,\n",
        "                    epochs=40,\n",
        "                    batch_size=512,\n",
        "                    validation_data=(X_val, y_val),\n",
        "                    verbose=1)\n"
      ]
    },
    {
      "cell_type": "code",
      "source": [
        "results = model5_2.evaluate(X_test_enc, y_test)"
      ],
      "metadata": {
        "colab": {
          "base_uri": "https://localhost:8080/"
        },
        "id": "_Zqa84jO1tRU",
        "outputId": "f3fb0a58-75e0-4db7-e5e4-f4d7a4932a59"
      },
      "execution_count": null,
      "outputs": [
        {
          "output_type": "stream",
          "name": "stdout",
          "text": [
            "782/782 [==============================] - 6s 8ms/step - loss: 1.3310 - accuracy: 0.8168\n"
          ]
        }
      ]
    },
    {
      "cell_type": "code",
      "execution_count": null,
      "metadata": {
        "colab": {
          "base_uri": "https://localhost:8080/",
          "height": 384
        },
        "id": "T2-fqNHiRRIe",
        "outputId": "eefc9a18-5ad2-434b-b761-7891776b61cd"
      },
      "outputs": [
        {
          "output_type": "display_data",
          "data": {
            "image/png": "[encoded data removed]",
            "text/plain": [
              "<Figure size 720x360 with 2 Axes>"
            ]
          },
          "metadata": {
            "needs_background": "light"
          }
        }
      ],
      "source": [
        "# your code goes here\n",
        "\n",
        "plot_history(history.history, path=\"standard.png\")\n",
        "plt.show()"
      ]
    },
    {
      "cell_type": "markdown",
      "metadata": {
        "id": "Kx--Ytk3ZbLo"
      },
      "source": [
        "Although adding layer here reduces the training loss, the evaluation accuracy is worse than the model without the extra convolutional layer.\n",
        "\n",
        "Adding more layers can help you to extract more features. But we can do that up to a certain extent. After some point, instead of extracting features, we tend to overfit the data. Overfitting can lead to errors in on form or another, such as false positives. It is not easy to choose the number of units in a hidden layer or the number of hidden layers in a neural network. For many applications, one hidden layer is enough. As a general rule, the number of units in that hidden layer is between the number of inputs and the number of outputs.\n",
        " The best way to decide on the number of units and hidden layers is to try various parameters. Train several neural networks with different numbers of hidden layers and neurons, and monitor the performance of them. You will have to experiment using a series of different architectures. \n",
        "\n",
        "\n",
        "\n"
      ]
    },
    {
      "cell_type": "markdown",
      "metadata": {
        "id": "gn2GSV4ioyO2"
      },
      "source": [
        "\n",
        "\n",
        "---\n",
        "\n"
      ]
    }
  ],
  "metadata": {
    "accelerator": "GPU",
    "colab": {
      "collapsed_sections": [],
      "machine_shape": "hm",
      "name": "NN and NLP LAB 3.ipynb",
      "provenance": []
    },
    "kernelspec": {
      "display_name": "Python 3",
      "language": "python",
      "name": "python3"
    },
    "language_info": {
      "codemirror_mode": {
        "name": "ipython",
        "version": 3
      },
      "file_extension": ".py",
      "mimetype": "text/x-python",
      "name": "python",
      "nbconvert_exporter": "python",
      "pygments_lexer": "ipython3",
      "version": "3.8.3"
    }
  },
  "nbformat": 4,
  "nbformat_minor": 0
}